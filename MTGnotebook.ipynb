{
 "cells": [
  {
   "cell_type": "markdown",
   "metadata": {},
   "source": [
    "## Let's try Bant Spirit first !"
   ]
  },
  {
   "cell_type": "code",
   "execution_count": 41,
   "metadata": {
    "scrolled": true
   },
   "outputs": [],
   "source": [
    "from magic import *\n",
    "mulliganer = Main('BantSpirit',Resolution='low')\n",
    "hand = 'horizon_canopy moorland_haunt cavern_of_souls  mausoleum_wanderer mausoleum_wanderer supreme_phantom collected_company'\n",
    "#mulliganer.RunHand(hand)"
   ]
  },
  {
   "cell_type": "markdown",
   "metadata": {},
   "source": [
    "## Now let's do it for Burn !"
   ]
  },
  {
   "cell_type": "code",
   "execution_count": 34,
   "metadata": {},
   "outputs": [],
   "source": [
    "mulliganer = Main('Burn',Resolution='high')\n",
    "hand = 'rift_bolt rift_bolt wooded_foothills  wooded_foothills lightning_helix monastery_swiftspear monastery_swiftspear'\n",
    "#mulliganer.RunHand(hand)"
   ]
  },
  {
   "cell_type": "markdown",
   "metadata": {},
   "source": [
    "## This is now the experimental part of this notebook, where you create training examples"
   ]
  },
  {
   "cell_type": "code",
   "execution_count": 18,
   "metadata": {},
   "outputs": [],
   "source": [
    "from magic import *\n",
    "from DeckDictBantSpirit import *"
   ]
  },
  {
   "cell_type": "code",
   "execution_count": 10,
   "metadata": {},
   "outputs": [],
   "source": [
    "DeckDictNoBlueLands = {\"forest\" :1,\n",
    "                     \"plains\" :1,\n",
    "                    \"temple_garden\" :1,\n",
    "                    \"horizon_canopy\" :3 ,\n",
    "                    \"moorland_haunt\" :1}\n",
    "\n",
    "DeckDictBlueLands = {\"flooded_strand\" :2, \n",
    "                    \"hallowed_fountain\" : 1,\n",
    "                    \"island\" :1,\n",
    "                 \"misty_rainforest\" :3,\n",
    "                \"seachrome_coast\" :1,\n",
    "                \"windswept_heath\" :2,\n",
    "                \"botanical_sanctum\" :2,\n",
    "                 \"breeding_pool\" :1,\n",
    "                 \"cavern_of_souls\" :1 }\n",
    "\n",
    "DeckDictSeachrome = {\"seachrome_coast\" :1}\n",
    "\n",
    "DeckDictLands = {\"flooded_strand\" :2, \n",
    "                 \"forest\" :1,\n",
    "                 \"hallowed_fountain\" : 1,\n",
    "                 \"horizon_canopy\" :3 ,\n",
    "                 \"island\" :1,\n",
    "                 \"misty_rainforest\" :3,\n",
    "                 \"moorland_haunt\" :1,\n",
    "                 \"plains\" :1,\n",
    "                 \"seachrome_coast\" :1,\n",
    "                 \"temple_garden\" :1 ,\n",
    "                 \"windswept_heath\" :2,\n",
    "                \"botanical_sanctum\" :2,\n",
    "                 \"breeding_pool\" :1,\n",
    "                 \"cavern_of_souls\" :1}\n",
    "\n",
    "DeckDictVial = {\"aether_vial\" :3}\n",
    "\n",
    "DeckDictOther = {\"drogskol_captain\" :4,\n",
    "                 \"geist_of_saint_traft\" :2,\n",
    "                 \"mausoleum_wanderer\" :4,\n",
    "                 \"noble_hierarch\" :4,\n",
    "                 \"phantasmal_image\" :3,\n",
    "                 \"rattlechains\" :1,\n",
    "                 \"selfless_spirit\" :2,\n",
    "                 \"spell_queller\" :4,\n",
    "                 \"supreme_phantom\" :4,\n",
    "                 \"collected_company\" :4,\n",
    "                 \"path_to_exile\" :4}\n",
    "\n",
    "DeckDictWanderer = {\"mausoleum_wanderer\" :3}\n",
    "\n",
    "DeckDictSpells = {\"drogskol_captain\" :4,\n",
    "                 \"geist_of_saint_traft\" :2,\n",
    "                 \"mausoleum_wanderer\" :4,\n",
    "                 \"phantasmal_image\" :3,\n",
    "                 \"rattlechains\" :1,\n",
    "                 \"selfless_spirit\" :2,\n",
    "                 \"spell_queller\" :4,\n",
    "                 \"supreme_phantom\" :4,\n",
    "                 \"collected_company\" :4,\n",
    "                 \"path_to_exile\" :4}\n",
    "\n",
    "DeckDict34Drops = {\"drogskol_captain\" :4,\n",
    "                  \"geist_of_saint_traft\" :2,\n",
    "                  \"spell_queller\" :4,\n",
    "                  \"collected_company\" :4}\n"
   ]
  },
  {
   "cell_type": "code",
   "execution_count": 13,
   "metadata": {
    "scrolled": true
   },
   "outputs": [
    {
     "name": "stdout",
     "output_type": "stream",
     "text": [
      "Written !\n",
      "Written !\n",
      "N_examples :  821\n",
      "1.0\n"
     ]
    }
   ],
   "source": [
    "DictList = [DeckDictLands,DeckDictOther]\n",
    "nList = [3,4]\n",
    "spirit = Train('BantSpirit',DeckDictSpirit)\n",
    "spirit.MakeControlledTrainingSetWithModel(7,DictList,nList,TrainingSetSize=0,TrainingFileName='TrainingSetNames')\n",
    "spirit.TransformTrainingSet(TrainingFileInput = 'TrainingSetNames')\n",
    "spirit.TrainAndSaveWeights()"
   ]
  },
  {
   "cell_type": "markdown",
   "metadata": {},
   "source": [
    "## Increase the TrainingSet"
   ]
  },
  {
   "cell_type": "code",
   "execution_count": 28,
   "metadata": {
    "scrolled": true
   },
   "outputs": [
    {
     "name": "stdout",
     "output_type": "stream",
     "text": [
      "Written !\n",
      "Written !\n",
      "N_examples :  853\n",
      "N_features :  70\n",
      "1.0\n"
     ]
    }
   ],
   "source": [
    "spirit = Train('BantSpirit',DeckDictSpirit)\n",
    "spirit.MakeTrainingSetWithModel(7,TrainingSetSize=0,TrainingFileName='TrainingSetNames')\n",
    "spirit.TransformTrainingSet(TrainingFileInput = 'TrainingSetNames')\n",
    "spirit.TrainAndSaveWeights(Nestimators =150)"
   ]
  },
  {
   "cell_type": "markdown",
   "metadata": {},
   "source": [
    "## Increase the TestingSet"
   ]
  },
  {
   "cell_type": "code",
   "execution_count": 29,
   "metadata": {
    "scrolled": true
   },
   "outputs": [
    {
     "name": "stdout",
     "output_type": "stream",
     "text": [
      "Written !\n",
      "Written !\n"
     ]
    }
   ],
   "source": [
    "spirit = Train('BantSpirit',DeckDictSpirit)\n",
    "spirit.MakeTrainingSetWithModel(7,TrainingSetSize=0,TrainingFileName='TestingSetNames')\n",
    "spirit.TransformTrainingSet(TrainingFileInput = 'TestingSetNames',TrainingFileOutput = 'TestingSet')"
   ]
  },
  {
   "cell_type": "markdown",
   "metadata": {},
   "source": [
    "## Test the algorithm on the TestingSet"
   ]
  },
  {
   "cell_type": "code",
   "execution_count": 30,
   "metadata": {},
   "outputs": [
    {
     "name": "stdout",
     "output_type": "stream",
     "text": [
      "N_examples :  853\n",
      "N_training examples :  853\n",
      "N_test examples :  200\n",
      "1.0\n",
      "0.935\n"
     ]
    }
   ],
   "source": [
    "spirit = Train('BantSpirit',DeckDictSpirit)\n",
    "spirit.TrainAndTest(Nestimators =150 , TestingFileInput = 'TestingSet')"
   ]
  },
  {
   "cell_type": "markdown",
   "metadata": {},
   "source": [
    "## Runs the model on Controlled hands to detect mistakes"
   ]
  },
  {
   "cell_type": "code",
   "execution_count": 11,
   "metadata": {
    "scrolled": true
   },
   "outputs": [],
   "source": [
    "DictList = [DeckDictNoBlueLands,DeckDictBlueLands,DeckDictWanderer]\n",
    "nList = [3,1,3]\n",
    "spirit = Main('BantSpirit',DeckDictSpirit,Resolution='low')\n",
    "spirit.TestModel(0,DictList,nList)"
   ]
  },
  {
   "cell_type": "markdown",
   "metadata": {},
   "source": [
    "## Few errors still persisting..."
   ]
  },
  {
   "cell_type": "code",
   "execution_count": 39,
   "metadata": {
    "scrolled": true
   },
   "outputs": [],
   "source": [
    "spirit = Main('BantSpirit')\n",
    "hands = []\n",
    "#hands.append('island forest plains supreme_phantom drogskol_captain collected_company collected_company')\n",
    "#hands.append('island noble_hierarch plains supreme_phantom drogskol_captain noble_hierarch collected_company')\n",
    "for hand in hands:\n",
    "    spirit.RunHand(hand)"
   ]
  },
  {
   "cell_type": "markdown",
   "metadata": {},
   "source": [
    "## Let's see what the mulliganer looks at first :"
   ]
  },
  {
   "cell_type": "code",
   "execution_count": 40,
   "metadata": {},
   "outputs": [
    {
     "name": "stdout",
     "output_type": "stream",
     "text": [
      "0.08254959079669558 9\n",
      "0.08116004198264067 5\n",
      "0.07841706055037624 16\n",
      "0.07751080708444903 15\n",
      "0.07691587957388048 8\n",
      "0.06431313459420966 6\n",
      "0.058021444392901494 17\n",
      "0.05753954887936308 7\n",
      "0.046042562837519195 10\n",
      "0.043897105416915515 19\n",
      "0.03995558478349352 0\n",
      "0.03633200055824501 18\n",
      "0.035793894255768496 3\n",
      "0.034077323575861525 25\n",
      "0.030986013783671638 20\n",
      "0.026748341280033075 11\n",
      "0.023162683952192037 30\n",
      "0.019684666404328872 13\n",
      "0.01224132006592693 21\n",
      "0.01158365934657393 29\n",
      "0.01130953887296521 12\n",
      "0.008107315028143497 32\n",
      "0.006726795116994498 27\n",
      "0.00669932466010723 34\n",
      "0.006647013413406472 14\n",
      "0.005720960533158491 24\n",
      "0.0052082085198256346 22\n",
      "0.002931960177397558 26\n",
      "0.0027372097227914387 23\n",
      "0.002568308565960225 4\n",
      "0.0018293800830541586 1\n",
      "0.0015176020484597725 31\n",
      "0.0010363183518649415 2\n",
      "2.7400790824804454e-05 28\n",
      "0.0 33\n"
     ]
    }
   ],
   "source": [
    "Interest = list(mulliganer.ModelML.feature_importances_)\n",
    "Interest.sort(reverse=True)\n",
    "Interest_original = list(mulliganer.ModelML.feature_importances_)\n",
    "for feature in Interest:\n",
    "        print(feature,Interest_original.index(feature))"
   ]
  },
  {
   "cell_type": "markdown",
   "metadata": {},
   "source": [
    "## Lets compare with a NN-model"
   ]
  },
  {
   "cell_type": "code",
   "execution_count": 32,
   "metadata": {},
   "outputs": [
    {
     "name": "stdout",
     "output_type": "stream",
     "text": [
      "N_examples :  822\n",
      "N_features :  70\n"
     ]
    }
   ],
   "source": [
    "from keras.models import Sequential\n",
    "from keras.layers import Dense, Dropout, Lambda\n",
    "from keras.layers import Flatten, Input\n",
    "from keras.models import Model\n",
    "import tensorflow as tf\n",
    "from keras import optimizers\n",
    "from keras.optimizers import Adam\n",
    "\n",
    "DeckName = 'BantSpirit'\n",
    "\n",
    "NNtry = Utility()\n",
    "Data = NNtry.read(DeckName+'/Training_set_'+DeckName+'/TrainingSet.csv',header = None)\n",
    "TestData = NNtry.read(DeckName+'/Training_set_'+DeckName+'/TestingSet.csv',header = None)\n",
    "\n",
    "X_test, y_test = TestData[:,:-1],TestData[:,-1]\n",
    "X_train, y_train = Data[:,:-1],Data[:,-1]\n",
    "\n",
    "N_examples = X_train.shape[0]\n",
    "N_features = X_train.shape[1]\n",
    "\n",
    "\n",
    "print(\"N_examples : \",N_examples)\n",
    "print(\"N_features : \",N_features)\n",
    "\n",
    "def model_keras(input_shape,alpha):\n",
    "\n",
    "    model_input = Input(input_shape)\n",
    "    model = Dense(128, activation='relu')(model_input)\n",
    "    model = Dense(192, activation='relu')(model)\n",
    "    model = Dropout(0.5)(model)\n",
    "    model = Dense(192, activation='relu')(model)\n",
    "    model = Dense(128, activation='relu')(model)\n",
    "    model = Dense(1, activation='sigmoid')(model)\n",
    "\n",
    "\n",
    "    # to go from [0,1] to {0,1}\n",
    "    Alpha = tf.constant(alpha, shape=[1,])\n",
    "    Thousand = tf.constant(1000.0, shape = [1,], )\n",
    "    model = Lambda(tf.subtract, output_shape=(1,),arguments={'y' : Alpha})(model)\n",
    "    model = Lambda(tf.multiply, output_shape=(1,),arguments={'y' : Thousand})(model)\n",
    "    model = Lambda(tf.sigmoid, output_shape=(1,))(model)\n",
    "    \n",
    "    NNModel = Model(inputs = model_input, outputs = model, name='NNModel')\n",
    "    return(NNModel)\n",
    "\n",
    "NN_model = model_keras((N_features,),0.5)"
   ]
  },
  {
   "cell_type": "code",
   "execution_count": 38,
   "metadata": {
    "scrolled": true
   },
   "outputs": [
    {
     "name": "stdout",
     "output_type": "stream",
     "text": [
      "_________________________________________________________________\n",
      "Layer (type)                 Output Shape              Param #   \n",
      "=================================================================\n",
      "input_13 (InputLayer)        (None, 70)                0         \n",
      "_________________________________________________________________\n",
      "dense_53 (Dense)             (None, 128)               9088      \n",
      "_________________________________________________________________\n",
      "dense_54 (Dense)             (None, 192)               24768     \n",
      "_________________________________________________________________\n",
      "dropout_11 (Dropout)         (None, 192)               0         \n",
      "_________________________________________________________________\n",
      "dense_55 (Dense)             (None, 192)               37056     \n",
      "_________________________________________________________________\n",
      "dense_56 (Dense)             (None, 128)               24704     \n",
      "_________________________________________________________________\n",
      "dense_57 (Dense)             (None, 1)                 129       \n",
      "_________________________________________________________________\n",
      "lambda_28 (Lambda)           (None, 1)                 0         \n",
      "_________________________________________________________________\n",
      "lambda_29 (Lambda)           (None, 1)                 0         \n",
      "_________________________________________________________________\n",
      "lambda_30 (Lambda)           (None, 1)                 0         \n",
      "=================================================================\n",
      "Total params: 95,745\n",
      "Trainable params: 95,745\n",
      "Non-trainable params: 0\n",
      "_________________________________________________________________\n",
      "None\n",
      "Epoch 1/100\n",
      "822/822 [==============================] - 1s 2ms/step - loss: 0.0091 - acc: 0.9951\n",
      "Epoch 2/100\n",
      "822/822 [==============================] - 0s 212us/step - loss: 0.0040 - acc: 0.9988\n",
      "Epoch 3/100\n",
      "822/822 [==============================] - 0s 206us/step - loss: 0.0073 - acc: 0.9976\n",
      "Epoch 4/100\n",
      "822/822 [==============================] - 0s 217us/step - loss: 0.0019 - acc: 1.0000\n",
      "Epoch 5/100\n",
      "822/822 [==============================] - 0s 224us/step - loss: 0.0250 - acc: 0.9939\n",
      "Epoch 6/100\n",
      "822/822 [==============================] - 0s 232us/step - loss: 0.0144 - acc: 0.9927\n",
      "Epoch 7/100\n",
      "822/822 [==============================] - 0s 254us/step - loss: 0.0064 - acc: 0.9964\n",
      "Epoch 8/100\n",
      "822/822 [==============================] - 0s 224us/step - loss: 0.0109 - acc: 0.9976\n",
      "Epoch 9/100\n",
      "822/822 [==============================] - 0s 207us/step - loss: 0.0086 - acc: 0.9964\n",
      "Epoch 10/100\n",
      "822/822 [==============================] - 0s 201us/step - loss: 0.0054 - acc: 0.9964\n",
      "Epoch 11/100\n",
      "822/822 [==============================] - 0s 195us/step - loss: 0.0041 - acc: 0.9988\n",
      "Epoch 12/100\n",
      "822/822 [==============================] - 0s 206us/step - loss: 0.0018 - acc: 1.0000\n",
      "Epoch 13/100\n",
      "822/822 [==============================] - 0s 204us/step - loss: 0.0115 - acc: 0.9988\n",
      "Epoch 14/100\n",
      "822/822 [==============================] - 0s 195us/step - loss: 0.0169 - acc: 0.9939\n",
      "Epoch 15/100\n",
      "822/822 [==============================] - 0s 214us/step - loss: 0.0150 - acc: 0.9939\n",
      "Epoch 16/100\n",
      "822/822 [==============================] - 0s 197us/step - loss: 0.0034 - acc: 0.9988\n",
      "Epoch 17/100\n",
      "822/822 [==============================] - 0s 199us/step - loss: 0.0065 - acc: 0.9988\n",
      "Epoch 18/100\n",
      "822/822 [==============================] - 0s 212us/step - loss: 0.0056 - acc: 0.9988\n",
      "Epoch 19/100\n",
      "822/822 [==============================] - 0s 215us/step - loss: 0.0087 - acc: 0.9988\n",
      "Epoch 20/100\n",
      "822/822 [==============================] - 0s 231us/step - loss: 0.0042 - acc: 0.9988\n",
      "Epoch 21/100\n",
      "822/822 [==============================] - 0s 230us/step - loss: 0.0076 - acc: 0.9988\n",
      "Epoch 22/100\n",
      "822/822 [==============================] - 0s 246us/step - loss: 0.0075 - acc: 0.9964\n",
      "Epoch 23/100\n",
      "822/822 [==============================] - 0s 276us/step - loss: 0.0069 - acc: 0.9976\n",
      "Epoch 24/100\n",
      "822/822 [==============================] - 0s 231us/step - loss: 0.0074 - acc: 0.9988\n",
      "Epoch 25/100\n",
      "822/822 [==============================] - 0s 219us/step - loss: 0.0045 - acc: 0.9988\n",
      "Epoch 26/100\n",
      "822/822 [==============================] - 0s 241us/step - loss: 0.0031 - acc: 0.9988\n",
      "Epoch 27/100\n",
      "822/822 [==============================] - 0s 229us/step - loss: 0.0111 - acc: 0.9964\n",
      "Epoch 28/100\n",
      "822/822 [==============================] - 0s 227us/step - loss: 0.0217 - acc: 0.9951\n",
      "Epoch 29/100\n",
      "822/822 [==============================] - 0s 220us/step - loss: 0.0184 - acc: 0.9939\n",
      "Epoch 30/100\n",
      "822/822 [==============================] - 0s 207us/step - loss: 0.0225 - acc: 0.9951\n",
      "Epoch 31/100\n",
      "822/822 [==============================] - 0s 206us/step - loss: 0.0101 - acc: 0.9964\n",
      "Epoch 32/100\n",
      "822/822 [==============================] - 0s 207us/step - loss: 0.0113 - acc: 0.9964\n",
      "Epoch 33/100\n",
      "822/822 [==============================] - 0s 209us/step - loss: 0.0136 - acc: 0.9939\n",
      "Epoch 34/100\n",
      "822/822 [==============================] - 0s 219us/step - loss: 0.0131 - acc: 0.9927\n",
      "Epoch 35/100\n",
      "822/822 [==============================] - 0s 226us/step - loss: 0.0062 - acc: 0.9964\n",
      "Epoch 36/100\n",
      "822/822 [==============================] - 0s 208us/step - loss: 0.0112 - acc: 0.9951\n",
      "Epoch 37/100\n",
      "822/822 [==============================] - 0s 212us/step - loss: 7.4018e-04 - acc: 1.0000\n",
      "Epoch 38/100\n",
      "822/822 [==============================] - 0s 213us/step - loss: 0.0082 - acc: 0.9964\n",
      "Epoch 39/100\n",
      "822/822 [==============================] - 0s 229us/step - loss: 0.0089 - acc: 0.9964\n",
      "Epoch 40/100\n",
      "822/822 [==============================] - 0s 238us/step - loss: 0.0138 - acc: 0.9964\n",
      "Epoch 41/100\n",
      "822/822 [==============================] - 0s 226us/step - loss: 0.0027 - acc: 1.0000\n",
      "Epoch 42/100\n",
      "822/822 [==============================] - 0s 223us/step - loss: 0.0064 - acc: 0.9976\n",
      "Epoch 43/100\n",
      "822/822 [==============================] - 0s 218us/step - loss: 0.0228 - acc: 0.9939\n",
      "Epoch 44/100\n",
      "822/822 [==============================] - 0s 232us/step - loss: 0.0031 - acc: 1.0000\n",
      "Epoch 45/100\n",
      "822/822 [==============================] - 0s 219us/step - loss: 0.0010 - acc: 1.0000\n",
      "Epoch 46/100\n",
      "822/822 [==============================] - 0s 202us/step - loss: 0.0093 - acc: 0.9988\n",
      "Epoch 47/100\n",
      "822/822 [==============================] - 0s 199us/step - loss: 0.0023 - acc: 1.0000\n",
      "Epoch 48/100\n",
      "822/822 [==============================] - 0s 202us/step - loss: 0.0036 - acc: 0.9988\n",
      "Epoch 49/100\n",
      "822/822 [==============================] - 0s 206us/step - loss: 0.0057 - acc: 0.9988\n",
      "Epoch 50/100\n",
      "822/822 [==============================] - 0s 213us/step - loss: 0.0012 - acc: 1.0000\n",
      "Epoch 51/100\n",
      "822/822 [==============================] - 0s 224us/step - loss: 0.0047 - acc: 0.9988\n",
      "Epoch 52/100\n",
      "822/822 [==============================] - 0s 213us/step - loss: 0.0122 - acc: 0.9976\n",
      "Epoch 53/100\n",
      "822/822 [==============================] - 0s 204us/step - loss: 0.0091 - acc: 0.9976\n",
      "Epoch 54/100\n",
      "822/822 [==============================] - 0s 209us/step - loss: 0.0042 - acc: 0.9976\n",
      "Epoch 55/100\n",
      "822/822 [==============================] - 0s 198us/step - loss: 0.0027 - acc: 0.9988\n",
      "Epoch 56/100\n",
      "822/822 [==============================] - 0s 197us/step - loss: 0.0051 - acc: 0.9976\n",
      "Epoch 57/100\n",
      "822/822 [==============================] - 0s 202us/step - loss: 5.7300e-04 - acc: 1.0000\n",
      "Epoch 58/100\n",
      "822/822 [==============================] - 0s 199us/step - loss: 0.0084 - acc: 0.9976\n",
      "Epoch 59/100\n",
      "822/822 [==============================] - 0s 197us/step - loss: 0.0028 - acc: 0.9988\n",
      "Epoch 60/100\n",
      "822/822 [==============================] - 0s 214us/step - loss: 0.0015 - acc: 1.0000\n",
      "Epoch 61/100\n",
      "822/822 [==============================] - 0s 202us/step - loss: 0.0016 - acc: 1.0000\n",
      "Epoch 62/100\n",
      "822/822 [==============================] - 0s 197us/step - loss: 0.0019 - acc: 1.0000\n",
      "Epoch 63/100\n",
      "822/822 [==============================] - 0s 221us/step - loss: 2.2799e-04 - acc: 1.0000\n",
      "Epoch 64/100\n",
      "822/822 [==============================] - 0s 237us/step - loss: 4.0897e-04 - acc: 1.0000\n",
      "Epoch 65/100\n",
      "822/822 [==============================] - 0s 219us/step - loss: 0.0010 - acc: 1.0000\n",
      "Epoch 66/100\n",
      "822/822 [==============================] - 0s 224us/step - loss: 4.6935e-04 - acc: 1.0000\n",
      "Epoch 67/100\n",
      "822/822 [==============================] - 0s 226us/step - loss: 8.5898e-04 - acc: 1.0000\n",
      "Epoch 68/100\n",
      "822/822 [==============================] - 0s 193us/step - loss: 5.0555e-04 - acc: 1.0000\n",
      "Epoch 69/100\n",
      "822/822 [==============================] - 0s 193us/step - loss: 0.0035 - acc: 0.9988\n",
      "Epoch 70/100\n",
      "822/822 [==============================] - 0s 187us/step - loss: 0.0065 - acc: 0.9964\n",
      "Epoch 71/100\n",
      "822/822 [==============================] - 0s 197us/step - loss: 0.0027 - acc: 0.9988\n",
      "Epoch 72/100\n",
      "822/822 [==============================] - 0s 198us/step - loss: 0.0015 - acc: 1.0000\n",
      "Epoch 73/100\n",
      "822/822 [==============================] - 0s 192us/step - loss: 0.0014 - acc: 1.0000\n",
      "Epoch 74/100\n",
      "822/822 [==============================] - 0s 189us/step - loss: 4.1811e-04 - acc: 1.0000\n",
      "Epoch 75/100\n",
      "822/822 [==============================] - 0s 209us/step - loss: 0.0011 - acc: 1.0000\n",
      "Epoch 76/100\n",
      "822/822 [==============================] - 0s 191us/step - loss: 5.9116e-04 - acc: 1.0000\n",
      "Epoch 77/100\n",
      "822/822 [==============================] - 0s 198us/step - loss: 0.0051 - acc: 0.9988\n",
      "Epoch 78/100\n",
      "822/822 [==============================] - 0s 186us/step - loss: 0.0114 - acc: 0.9964\n",
      "Epoch 79/100\n",
      "822/822 [==============================] - 0s 191us/step - loss: 0.0107 - acc: 0.9939\n",
      "Epoch 80/100\n",
      "822/822 [==============================] - 0s 199us/step - loss: 0.0050 - acc: 0.9976\n",
      "Epoch 81/100\n",
      "822/822 [==============================] - 0s 191us/step - loss: 0.0082 - acc: 0.9964\n",
      "Epoch 82/100\n",
      "822/822 [==============================] - 0s 193us/step - loss: 0.0148 - acc: 0.9939\n",
      "Epoch 83/100\n",
      "822/822 [==============================] - 0s 203us/step - loss: 0.0334 - acc: 0.9891\n",
      "Epoch 84/100\n",
      "822/822 [==============================] - 0s 201us/step - loss: 0.0163 - acc: 0.9939\n",
      "Epoch 85/100\n",
      "822/822 [==============================] - 0s 202us/step - loss: 0.0138 - acc: 0.9988\n",
      "Epoch 86/100\n",
      "822/822 [==============================] - 0s 193us/step - loss: 0.0117 - acc: 0.9964\n",
      "Epoch 87/100\n",
      "822/822 [==============================] - 0s 190us/step - loss: 0.0027 - acc: 0.9976\n",
      "Epoch 88/100\n",
      "822/822 [==============================] - 0s 201us/step - loss: 0.0076 - acc: 0.9976\n",
      "Epoch 89/100\n",
      "822/822 [==============================] - 0s 189us/step - loss: 0.0124 - acc: 0.9964\n",
      "Epoch 90/100\n",
      "822/822 [==============================] - 0s 203us/step - loss: 0.0078 - acc: 0.9976\n",
      "Epoch 91/100\n",
      "822/822 [==============================] - 0s 192us/step - loss: 0.0323 - acc: 0.9927\n",
      "Epoch 92/100\n",
      "822/822 [==============================] - 0s 191us/step - loss: 0.0266 - acc: 0.9915\n",
      "Epoch 93/100\n",
      "822/822 [==============================] - 0s 198us/step - loss: 0.0288 - acc: 0.9891\n",
      "Epoch 94/100\n",
      "822/822 [==============================] - 0s 208us/step - loss: 0.0043 - acc: 0.9988\n",
      "Epoch 95/100\n",
      "822/822 [==============================] - 0s 195us/step - loss: 0.0251 - acc: 0.9964\n",
      "Epoch 96/100\n",
      "822/822 [==============================] - 0s 197us/step - loss: 0.0118 - acc: 0.9964\n",
      "Epoch 97/100\n",
      "822/822 [==============================] - 0s 195us/step - loss: 0.0072 - acc: 0.9988\n",
      "Epoch 98/100\n",
      "822/822 [==============================] - 0s 199us/step - loss: 0.0048 - acc: 0.9976\n",
      "Epoch 99/100\n",
      "822/822 [==============================] - 0s 193us/step - loss: 0.0278 - acc: 0.9976\n",
      "Epoch 100/100\n",
      "822/822 [==============================] - 0s 214us/step - loss: 0.0013 - acc: 1.0000\n",
      "Accuracy: 89.500000\n"
     ]
    }
   ],
   "source": [
    "opti = Adam(lr=0.00025, beta_1=0.9, beta_2=0.999, epsilon=None, decay=0.0, amsgrad=False)\n",
    "\n",
    "    # compile the model\n",
    "NN_model.compile(optimizer=opti, loss='binary_crossentropy', metrics=['acc'])\n",
    "\n",
    "    # summarize the model\n",
    "print(NN_model.summary())\n",
    "\n",
    "    # fit the model\n",
    "NN_model.fit(X_train, y_train, epochs=100, verbose=1)\n",
    "\n",
    "    # evaluate the model\n",
    "loss, accuracy = NN_model.evaluate(X_test, y_test, verbose=0)\n",
    "print('Accuracy: %f' % (accuracy*100))\n"
   ]
  }
 ],
 "metadata": {
  "kernelspec": {
   "display_name": "Python 3",
   "language": "python",
   "name": "python3"
  },
  "language_info": {
   "codemirror_mode": {
    "name": "ipython",
    "version": 3
   },
   "file_extension": ".py",
   "mimetype": "text/x-python",
   "name": "python",
   "nbconvert_exporter": "python",
   "pygments_lexer": "ipython3",
   "version": "3.6.4"
  }
 },
 "nbformat": 4,
 "nbformat_minor": 2
}
