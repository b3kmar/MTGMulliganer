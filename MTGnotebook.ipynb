{
 "cells": [
  {
   "cell_type": "markdown",
   "metadata": {},
   "source": [
    "## Let's try Bant Spirit first !"
   ]
  },
  {
   "cell_type": "code",
   "execution_count": 7,
   "metadata": {},
   "outputs": [],
   "source": [
    "from magic import *\n",
    "mulliganer = Main('BantSpirit',Resolution='low')\n",
    "hand = 'horizon_canopy moorland_haunt cavern_of_souls  mausoleum_wanderer mausoleum_wanderer supreme_phantom collected_company'\n",
    "#mulliganer.RunHand(hand)"
   ]
  },
  {
   "cell_type": "markdown",
   "metadata": {},
   "source": [
    "## Now let's do it for Burn !"
   ]
  },
  {
   "cell_type": "code",
   "execution_count": 9,
   "metadata": {},
   "outputs": [],
   "source": [
    "mulliganer = Main('Burn',Resolution='low')\n",
    "hand = 'eidolon_of_the_great_revel rift_bolt lightning_bolt goblin_guide goblin_guide inspiring_vantage monastery_swiftspear'\n",
    "#mulliganer.RunHand(hand)"
   ]
  },
  {
   "cell_type": "markdown",
   "metadata": {},
   "source": [
    "## This is now the experimental part of this notebook, where you create training examples"
   ]
  },
  {
   "cell_type": "code",
   "execution_count": 1,
   "metadata": {},
   "outputs": [],
   "source": [
    "from magic import *\n",
    "from DeckDictBantSpirit import *"
   ]
  },
  {
   "cell_type": "code",
   "execution_count": 2,
   "metadata": {},
   "outputs": [],
   "source": [
    "DeckDictNoBlueLands = {\"forest\" :1,\n",
    "                     \"plains\" :1,\n",
    "                    \"temple_garden\" :1,\n",
    "                    \"horizon_canopy\" :3 ,\n",
    "                    \"moorland_haunt\" :1}\n",
    "\n",
    "DeckDictBlueLands = {\"flooded_strand\" :2, \n",
    "                    \"hallowed_fountain\" : 1,\n",
    "                    \"island\" :1,\n",
    "                 \"misty_rainforest\" :3,\n",
    "                \"seachrome_coast\" :1,\n",
    "                \"windswept_heath\" :2,\n",
    "                \"botanical_sanctum\" :2,\n",
    "                 \"breeding_pool\" :1,\n",
    "                 \"cavern_of_souls\" :1 }\n",
    "\n",
    "DeckDictSeachrome = {\"seachrome_coast\" :1}\n",
    "\n",
    "DeckDictLands = {\"flooded_strand\" :2, \n",
    "                 \"forest\" :1,\n",
    "                 \"hallowed_fountain\" : 1,\n",
    "                 \"horizon_canopy\" :3 ,\n",
    "                 \"island\" :1,\n",
    "                 \"misty_rainforest\" :3,\n",
    "                 \"moorland_haunt\" :1,\n",
    "                 \"plains\" :1,\n",
    "                 \"seachrome_coast\" :1,\n",
    "                 \"temple_garden\" :1 ,\n",
    "                 \"windswept_heath\" :2,\n",
    "                \"botanical_sanctum\" :2,\n",
    "                 \"breeding_pool\" :1,\n",
    "                 \"cavern_of_souls\" :1}\n",
    "\n",
    "DeckDictVial = {\"aether_vial\" :3}\n",
    "\n",
    "DeckDictOther = {\"drogskol_captain\" :4,\n",
    "                 \"geist_of_saint_traft\" :2,\n",
    "                 \"mausoleum_wanderer\" :4,\n",
    "                 \"noble_hierarch\" :4,\n",
    "                 \"phantasmal_image\" :3,\n",
    "                 \"rattlechains\" :1,\n",
    "                 \"selfless_spirit\" :2,\n",
    "                 \"spell_queller\" :4,\n",
    "                 \"supreme_phantom\" :4,\n",
    "                 \"collected_company\" :4,\n",
    "                 \"path_to_exile\" :4}\n",
    "\n",
    "DeckDictWanderer = {\"mausoleum_wanderer\" :3}\n",
    "\n",
    "DeckDictSpells = {\"drogskol_captain\" :4,\n",
    "                 \"geist_of_saint_traft\" :2,\n",
    "                 \"mausoleum_wanderer\" :4,\n",
    "                 \"phantasmal_image\" :3,\n",
    "                 \"rattlechains\" :1,\n",
    "                 \"selfless_spirit\" :2,\n",
    "                 \"spell_queller\" :4,\n",
    "                 \"supreme_phantom\" :4,\n",
    "                 \"collected_company\" :4,\n",
    "                 \"path_to_exile\" :4}\n",
    "\n",
    "DeckDict34Drops = {\"drogskol_captain\" :4,\n",
    "                  \"geist_of_saint_traft\" :2,\n",
    "                  \"spell_queller\" :4,\n",
    "                  \"collected_company\" :4}\n"
   ]
  },
  {
   "cell_type": "code",
   "execution_count": 50,
   "metadata": {
    "scrolled": true
   },
   "outputs": [
    {
     "name": "stdout",
     "output_type": "stream",
     "text": [
      "Written !\n",
      "Written !\n",
      "N_examples :  800\n",
      "1.0\n"
     ]
    }
   ],
   "source": [
    "DictList = [DeckDictLands,DeckDictOther]\n",
    "nList = [3,4]\n",
    "spirit = Train('BantSpirit',DeckDictSpirit)\n",
    "spirit.MakeControlledTrainingSetWithModel(7,DictList,nList,TrainingSetSize=0,TrainingFileName='TrainingSetNames')\n",
    "spirit.TransformTrainingSet(TrainingFileInput = 'TrainingSetNames')\n",
    "spirit.TrainAndSaveWeights()"
   ]
  },
  {
   "cell_type": "markdown",
   "metadata": {},
   "source": [
    "## Increase the TrainingSet"
   ]
  },
  {
   "cell_type": "code",
   "execution_count": 4,
   "metadata": {
    "scrolled": true
   },
   "outputs": [
    {
     "name": "stdout",
     "output_type": "stream",
     "text": [
      "Written !\n",
      "Written !\n",
      "N_examples :  800\n",
      "1.0\n"
     ]
    }
   ],
   "source": [
    "spirit = Train('BantSpirit',DeckDictSpirit)\n",
    "spirit.MakeTrainingSetWithModel(7,TrainingSetSize=0,TrainingFileName='TrainingSetNames')\n",
    "spirit.TransformTrainingSet(TrainingFileInput = 'TrainingSetNames')\n",
    "spirit.TrainAndSaveWeights()"
   ]
  },
  {
   "cell_type": "markdown",
   "metadata": {},
   "source": [
    "## Increase the TestingSet"
   ]
  },
  {
   "cell_type": "code",
   "execution_count": 88,
   "metadata": {
    "scrolled": true
   },
   "outputs": [
    {
     "name": "stdout",
     "output_type": "stream",
     "text": [
      "Written !\n",
      "Written !\n"
     ]
    }
   ],
   "source": [
    "spirit = Train('BantSpirit',DeckDictSpirit)\n",
    "spirit.MakeTrainingSetWithModel(7,TrainingSetSize=0,TrainingFileName='TestingSetNames')\n",
    "spirit.TransformTrainingSet(TrainingFileInput = 'TestingSetNames',TrainingFileOutput = 'TestingSet')"
   ]
  },
  {
   "cell_type": "markdown",
   "metadata": {},
   "source": [
    "## Test the algorithm on the TestingSet"
   ]
  },
  {
   "cell_type": "code",
   "execution_count": 89,
   "metadata": {},
   "outputs": [
    {
     "name": "stdout",
     "output_type": "stream",
     "text": [
      "N_examples :  800\n",
      "N_training examples :  800\n",
      "N_test examples :  200\n",
      "1.0\n",
      "0.94\n"
     ]
    }
   ],
   "source": [
    "spirit = Train('BantSpirit',DeckDictSpirit)\n",
    "spirit.TrainAndTest(TestingFileInput = 'TestingSet')"
   ]
  },
  {
   "cell_type": "markdown",
   "metadata": {},
   "source": [
    "## Runs the model on Controlled hands to detect mistakes"
   ]
  },
  {
   "cell_type": "code",
   "execution_count": 11,
   "metadata": {
    "scrolled": true
   },
   "outputs": [],
   "source": [
    "DictList = [DeckDictNoBlueLands,DeckDictBlueLands,DeckDictWanderer]\n",
    "nList = [3,1,3]\n",
    "spirit = Main('BantSpirit',DeckDictSpirit,Resolution='low')\n",
    "spirit.TestModel(0,DictList,nList)"
   ]
  },
  {
   "cell_type": "markdown",
   "metadata": {},
   "source": [
    "## Few errors still persisting..."
   ]
  },
  {
   "cell_type": "code",
   "execution_count": 19,
   "metadata": {
    "scrolled": true
   },
   "outputs": [],
   "source": [
    "spirit = Main('BantSpirit',DeckDictSpirit)\n",
    "hands = []\n",
    "#hands.append(' plains temple_garden flooded_strand  mausoleum_wanderer mausoleum_wanderer mausoleum_wanderer mausoleum_wanderer')\n",
    "#hands.append(' horizon_canopy temple_garden windswept_heath  mausoleum_wanderer mausoleum_wanderer mausoleum_wanderer mausoleum_wanderer')\n",
    "#hands.append(' horizon_canopy horizon_canopy windswept_heath  mausoleum_wanderer mausoleum_wanderer mausoleum_wanderer mausoleum_wanderer')\n",
    "#hands.append(' plains temple_garden windswept_heath  mausoleum_wanderer mausoleum_wanderer supreme_phantom mausoleum_wanderer')\n",
    "for hand in hands:\n",
    "    spirit.RunHand(hand)"
   ]
  },
  {
   "cell_type": "code",
   "execution_count": 5,
   "metadata": {},
   "outputs": [],
   "source": [
    "spirit = Main('BantSpirit',DeckDictSpirit)\n",
    "hand = 'botanical_sanctum windswept_heath windswept_heath path_to_exile spell_queller drogskol_captain collected_company'\n",
    "#spirit.RunHand(hand)"
   ]
  }
 ],
 "metadata": {
  "kernelspec": {
   "display_name": "Python 3",
   "language": "python",
   "name": "python3"
  },
  "language_info": {
   "codemirror_mode": {
    "name": "ipython",
    "version": 3
   },
   "file_extension": ".py",
   "mimetype": "text/x-python",
   "name": "python",
   "nbconvert_exporter": "python",
   "pygments_lexer": "ipython3",
   "version": "3.6.4"
  }
 },
 "nbformat": 4,
 "nbformat_minor": 2
}
