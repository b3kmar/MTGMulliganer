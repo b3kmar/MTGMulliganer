{
 "cells": [
  {
   "cell_type": "markdown",
   "metadata": {},
   "source": [
    "## Let's try Bant Spirit first !"
   ]
  },
  {
   "cell_type": "code",
   "execution_count": 21,
   "metadata": {
    "scrolled": true
   },
   "outputs": [],
   "source": [
    "from magic import *\n",
    "mulliganer = Main('BantSpirit',Resolution='low')\n",
    "hand = 'horizon_canopy moorland_haunt cavern_of_souls  mausoleum_wanderer supreme_phantom supreme_phantom collected_company'\n",
    "#mulliganer.RunHand(hand)"
   ]
  },
  {
   "cell_type": "markdown",
   "metadata": {},
   "source": [
    "## Now let's do it for Burn !"
   ]
  },
  {
   "cell_type": "code",
   "execution_count": 11,
   "metadata": {},
   "outputs": [],
   "source": [
    "mulliganer = Main('Burn',Resolution='high')\n",
    "hand = 'rift_bolt rift_bolt rift_bolt  wooded_foothills lightning_helix monastery_swiftspear monastery_swiftspear'\n",
    "#mulliganer.RunHand(hand)"
   ]
  },
  {
   "cell_type": "markdown",
   "metadata": {},
   "source": [
    "## This is now the experimental part of this notebook, where you create training examples"
   ]
  },
  {
   "cell_type": "code",
   "execution_count": 1,
   "metadata": {},
   "outputs": [],
   "source": [
    "from magic import *\n",
    "from DeckDictBantSpirit import *\n",
    "from DeckDictHumans import *\n",
    "from DeckDictBurn import *"
   ]
  },
  {
   "cell_type": "code",
   "execution_count": 5,
   "metadata": {},
   "outputs": [],
   "source": [
    "DeckDictNoBlueLands = {\"forest\" :1,\n",
    "                     \"plains\" :1,\n",
    "                    \"temple_garden\" :1,\n",
    "                    \"horizon_canopy\" :3 ,\n",
    "                    \"moorland_haunt\" :1}\n",
    "\n",
    "DeckDictBlueLands = {\"flooded_strand\" :2, \n",
    "                    \"hallowed_fountain\" : 1,\n",
    "                    \"island\" :1,\n",
    "                 \"misty_rainforest\" :3,\n",
    "                \"seachrome_coast\" :1,\n",
    "                \"windswept_heath\" :2,\n",
    "                \"botanical_sanctum\" :2,\n",
    "                 \"breeding_pool\" :1,\n",
    "                 \"cavern_of_souls\" :1 }\n",
    "\n",
    "DeckDictLands = {\"flooded_strand\" :2, \n",
    "                 \"forest\" :1,\n",
    "                 \"hallowed_fountain\" : 1,\n",
    "                 \"horizon_canopy\" :3 ,\n",
    "                 \"island\" :1,\n",
    "                 \"misty_rainforest\" :3,\n",
    "                 \"moorland_haunt\" :1,\n",
    "                 \"plains\" :1,\n",
    "                 \"seachrome_coast\" :1,\n",
    "                 \"temple_garden\" :1 ,\n",
    "                 \"windswept_heath\" :2,\n",
    "                \"botanical_sanctum\" :2,\n",
    "                 \"breeding_pool\" :1,\n",
    "                 \"cavern_of_souls\" :1}\n",
    "\n",
    "\n",
    "\n",
    "DeckDictOther = {\"drogskol_captain\" :4,\n",
    "                 \"geist_of_saint_traft\" :2,\n",
    "                 \"mausoleum_wanderer\" :4,\n",
    "                 \"noble_hierarch\" :4,\n",
    "                 \"phantasmal_image\" :3,\n",
    "                 \"rattlechains\" :1,\n",
    "                 \"selfless_spirit\" :2,\n",
    "                 \"spell_queller\" :4,\n",
    "                 \"supreme_phantom\" :4,\n",
    "                 \"collected_company\" :4,\n",
    "                 \"path_to_exile\" :4}\n",
    "\n",
    "DeckDictWanderer = {\"mausoleum_wanderer\" :3}\n",
    "DeckDictHierarch = {\"noble_hierarch\" : 2}\n",
    "DeckDictVial = {\"aether_vial\" :3}\n",
    "DeckDictSeachrome = {\"seachrome_coast\" :1}\n",
    "\n",
    "\n",
    "DeckDictSpells = {\"drogskol_captain\" :4,\n",
    "                 \"geist_of_saint_traft\" :2,\n",
    "                 \"mausoleum_wanderer\" :4,\n",
    "                 \"phantasmal_image\" :3,\n",
    "                 \"rattlechains\" :1,\n",
    "                 \"selfless_spirit\" :2,\n",
    "                 \"spell_queller\" :4,\n",
    "                 \"supreme_phantom\" :4,\n",
    "                 \"collected_company\" :4,\n",
    "                 \"path_to_exile\" :4}\n",
    "\n",
    "DeckDict34Drops = {\"drogskol_captain\" :4,\n",
    "                  \"geist_of_saint_traft\" :2,\n",
    "                  \"spell_queller\" :4,\n",
    "                  \"collected_company\" :4}\n"
   ]
  },
  {
   "cell_type": "code",
   "execution_count": 6,
   "metadata": {
    "scrolled": true
   },
   "outputs": [
    {
     "name": "stdout",
     "output_type": "stream",
     "text": [
      "Written !\n",
      "Written !\n",
      "N_examples :  902\n",
      "N_features :  70\n",
      "0.9301552106430155\n"
     ]
    }
   ],
   "source": [
    "DictList = [DeckDictLands,DeckDictVial,DeckDictHierarch,DeckDictOther]\n",
    "nList = [1,1,2,3]\n",
    "spirit = Train('BantSpirit',DeckDictSpirit)\n",
    "spirit.MakeControlledTrainingSetWithModel(7,DictList,nList,TrainingSetSize=0,TrainingFileName='TrainingSetNames')\n",
    "spirit.TransformTrainingSet(TrainingFileInput = 'TrainingSetNames')\n",
    "spirit.TrainAndSaveWeights(Nestimators =200,MaxDepth=7)"
   ]
  },
  {
   "cell_type": "markdown",
   "metadata": {},
   "source": [
    "## Increase the TrainingSet"
   ]
  },
  {
   "cell_type": "code",
   "execution_count": 30,
   "metadata": {
    "scrolled": true
   },
   "outputs": [
    {
     "name": "stdout",
     "output_type": "stream",
     "text": [
      "Written !\n",
      "Written !\n",
      "N_examples :  902\n",
      "N_features :  70\n",
      "1.0\n"
     ]
    }
   ],
   "source": [
    "spirit = Train('BantSpirit',DeckDictSpirit)\n",
    "spirit.MakeTrainingSetWithModel(7,TrainingSetSize=0,TrainingFileName='TrainingSetNames')\n",
    "spirit.TransformTrainingSet(TrainingFileInput = 'TrainingSetNames')\n",
    "spirit.TrainAndSaveWeights(Nestimators =105)"
   ]
  },
  {
   "cell_type": "markdown",
   "metadata": {},
   "source": [
    "## Increase the TestingSet"
   ]
  },
  {
   "cell_type": "code",
   "execution_count": 10,
   "metadata": {
    "scrolled": true
   },
   "outputs": [
    {
     "name": "stdout",
     "output_type": "stream",
     "text": [
      "Written !\n",
      "Written !\n"
     ]
    }
   ],
   "source": [
    "spirit = Train('BantSpirit',DeckDictSpirit)\n",
    "spirit.MakeTrainingSetWithModel(7,TrainingSetSize=0,TrainingFileName='TestingSetNames')\n",
    "spirit.TransformTrainingSet(TrainingFileInput = 'TestingSetNames',TrainingFileOutput = 'TestingSet')"
   ]
  },
  {
   "cell_type": "markdown",
   "metadata": {},
   "source": [
    "## Test the algorithm on the TestingSet"
   ]
  },
  {
   "cell_type": "code",
   "execution_count": 14,
   "metadata": {
    "scrolled": true
   },
   "outputs": [
    {
     "name": "stdout",
     "output_type": "stream",
     "text": [
      "N_examples :  902\n",
      "N_training examples : 902\n",
      "N_test examples : 200 \n",
      "\n",
      "Training Score : 0.9302 \n",
      "Testing Score : 0.91 \n",
      "\n",
      "N_examples :  902\n",
      "N_training examples : 721 \n",
      "N_test examples : 181 \n",
      "\n",
      "Training Score : 0.9417 \n",
      "Testing Score : 0.9006 \n",
      "\n"
     ]
    }
   ],
   "source": [
    "Spirit = Train('BantSpirit',DeckDictSpirit)\n",
    "Spirit.TrainAndTest(Nestimators = 200,MaxDepth = 7,FindBestNestimators=False, TestingFileInput = 'TestingSet')\n",
    "Spirit.TrainAndTest(Nestimators = 200,MaxDepth = 7,FindBestNestimators=False, TestSize = 0.2)"
   ]
  },
  {
   "cell_type": "markdown",
   "metadata": {},
   "source": [
    "## Runs the model on Controlled hands to detect mistakes"
   ]
  },
  {
   "cell_type": "code",
   "execution_count": 11,
   "metadata": {
    "scrolled": true
   },
   "outputs": [],
   "source": [
    "DictList = [DeckDictNoBlueLands,DeckDictBlueLands,DeckDictWanderer]\n",
    "nList = [3,1,3]\n",
    "spirit = Main('BantSpirit',DeckDictSpirit,Resolution='low')\n",
    "spirit.TestModel(0,DictList,nList)"
   ]
  },
  {
   "cell_type": "markdown",
   "metadata": {},
   "source": [
    "## Few errors still persisting..."
   ]
  },
  {
   "cell_type": "code",
   "execution_count": 22,
   "metadata": {
    "scrolled": true
   },
   "outputs": [],
   "source": [
    "spirit = Main('BantSpirit',Resolution='low')\n",
    "hands = []\n",
    "#hands.append('island forest plains supreme_phantom drogskol_captain collected_company collected_company')\n",
    "for hand in hands:\n",
    "    spirit.RunHand(hand)"
   ]
  },
  {
   "cell_type": "code",
   "execution_count": 35,
   "metadata": {
    "scrolled": true
   },
   "outputs": [],
   "source": [
    "spirit = Main('BantSpirit',Resolution='low')\n",
    "#for hand in FailedHands:\n",
    "#    spirit.RunHand(hand)"
   ]
  },
  {
   "cell_type": "markdown",
   "metadata": {},
   "source": [
    "## Let's see what the mulliganer looks at first :"
   ]
  },
  {
   "cell_type": "code",
   "execution_count": 7,
   "metadata": {},
   "outputs": [
    {
     "name": "stdout",
     "output_type": "stream",
     "text": [
      "The N°1 feature is the feature : \"type_of_card\" of the card N°5  with the score of 9.42 percents \n",
      "The N°2 feature is the feature : \"produces_U\" of the card N°3  with the score of 6.97 percents \n",
      "The N°3 feature is the feature : \"Need_W\" of the card N°2  with the score of 5.88 percents \n",
      "The N°4 feature is the feature : \"produces_U\" of the card N°2  with the score of 5.82 percents \n",
      "The N°5 feature is the feature : \"CCM\" of the card N°4  with the score of 5.78 percents \n",
      "The N°6 feature is the feature : \"produces_U\" of the card N°1  with the score of 5.49 percents \n",
      "The N°7 feature is the feature : \"type_of_card\" of the card N°2  with the score of 4.33 percents \n",
      "The N°8 feature is the feature : \"CCM\" of the card N°5  with the score of 3.57 percents \n",
      "The N°9 feature is the feature : \"type_of_card\" of the card N°4  with the score of 3.3 percents \n",
      "The N°10 feature is the feature : \"type_of_card\" of the card N°3  with the score of 3.2 percents \n"
     ]
    }
   ],
   "source": [
    "#HumanAnalyse = Analyse('Humans')\n",
    "#HumanAnalyse.AnalysePattern()\n",
    "\n",
    "SpiritAnalyse = Analyse('BantSpirit')\n",
    "SpiritAnalyse.AnalysePattern()"
   ]
  },
  {
   "cell_type": "code",
   "execution_count": 23,
   "metadata": {
    "scrolled": true
   },
   "outputs": [],
   "source": [
    "#SpiritAnalyse.PlotGraphs(MaxDepthList=[7,8],TestSizeList=[0.2],NestimatorsList=[200,201])"
   ]
  },
  {
   "cell_type": "markdown",
   "metadata": {},
   "source": [
    "## Burn Analyse !"
   ]
  },
  {
   "cell_type": "code",
   "execution_count": 29,
   "metadata": {},
   "outputs": [
    {
     "name": "stdout",
     "output_type": "stream",
     "text": [
      "Written !\n",
      "Written !\n",
      "N_examples :  303\n",
      "N_features :  35\n",
      "0.9834983498349835\n"
     ]
    }
   ],
   "source": [
    "burn = Train('Burn',DeckDictBurn)\n",
    "burn.MakeTrainingSetWithModel(7,TrainingSetSize=0,TrainingFileName='TrainingSetNames')\n",
    "burn.TransformTrainingSet(TrainingFileInput = 'TrainingSetNames')\n",
    "burn.TrainAndSaveWeights(Nestimators =100,MaxDepth = 10)"
   ]
  },
  {
   "cell_type": "code",
   "execution_count": 20,
   "metadata": {},
   "outputs": [
    {
     "name": "stdout",
     "output_type": "stream",
     "text": [
      "N_examples :  303\n",
      "N_training examples : 242 \n",
      "N_test examples : 61 \n",
      "\n",
      "Training Score : 0.9876 \n",
      "Testing Score : 0.9344 \n",
      "\n"
     ]
    }
   ],
   "source": [
    "burn = Train('Burn',DeckDictBurn)\n",
    "burn.TrainAndTest(Nestimators = 100,MaxDepth = 10,FindBestNestimators=False, TestSize = 0.2)"
   ]
  },
  {
   "cell_type": "code",
   "execution_count": 35,
   "metadata": {
    "scrolled": true
   },
   "outputs": [
    {
     "name": "stdout",
     "output_type": "stream",
     "text": [
      "The N°1 feature is the feature : \"Damage\" of the card N°2  with the score of 11.07 percents \n",
      "The N°2 feature is the feature : \"CCM\" of the card N°4  with the score of 8.23 percents \n",
      "The N°3 feature is the feature : \"CCM\" of the card N°2  with the score of 7.91 percents \n",
      "The N°4 feature is the feature : \"Color produced (if land)\" of the card N°2  with the score of 7.33 percents \n",
      "The N°5 feature is the feature : \"Damage\" of the card N°4  with the score of 6.3 percents \n",
      "The N°6 feature is the feature : \"type_of_card\" of the card N°2  with the score of 6.25 percents \n",
      "The N°7 feature is the feature : \"Color needed (if not land)\" of the card N°2  with the score of 6.2 percents \n",
      "The N°8 feature is the feature : \"Color produced (if land)\" of the card N°4  with the score of 5.99 percents \n",
      "The N°9 feature is the feature : \"type_of_card\" of the card N°4  with the score of 5.91 percents \n",
      "The N°10 feature is the feature : \"Color produced (if land)\" of the card N°1  with the score of 5.55 percents \n"
     ]
    }
   ],
   "source": [
    "BurnAnalyse = Analyse('Burn')\n",
    "BurnAnalyse.AnalysePattern()                                                                              "
   ]
  },
  {
   "cell_type": "code",
   "execution_count": 12,
   "metadata": {
    "scrolled": true
   },
   "outputs": [
    {
     "name": "stdout",
     "output_type": "stream",
     "text": [
      "Written !\n",
      "Written !\n",
      "N_examples :  600\n",
      "N_features :  98\n",
      "0.965\n"
     ]
    }
   ],
   "source": [
    "humans = Train('Humans',DeckDictHumans)\n",
    "humans.MakeTrainingSetWithModel(7,TrainingSetSize=0,TrainingFileName='TrainingSetNames')\n",
    "humans.TransformTrainingSet(TrainingFileInput = 'TrainingSetNames')\n",
    "humans.TrainAndSaveWeights(Nestimators =100,MaxDepth=10)"
   ]
  },
  {
   "cell_type": "code",
   "execution_count": 7,
   "metadata": {
    "scrolled": true
   },
   "outputs": [
    {
     "name": "stdout",
     "output_type": "stream",
     "text": [
      "Written !\n",
      "Written !\n"
     ]
    }
   ],
   "source": [
    "humans = Train('Humans',DeckDictHumans)\n",
    "humans.MakeTrainingSetWithModel(7,TrainingSetSize=0,TrainingFileName='TestingSetNames')\n",
    "humans.TransformTrainingSet(TrainingFileInput = 'TestingSetNames',TrainingFileOutput = 'TestingSet')"
   ]
  },
  {
   "cell_type": "code",
   "execution_count": 17,
   "metadata": {},
   "outputs": [
    {
     "name": "stdout",
     "output_type": "stream",
     "text": [
      "N_examples :  600\n",
      "N_training examples : 480 \n",
      "N_test examples : 120 \n",
      "\n",
      "Training Score : 0.9792 \n",
      "Testing Score : 0.9167 \n",
      "\n"
     ]
    }
   ],
   "source": [
    "humans = Train('Humans',DeckDictHumans)\n",
    "humans.TrainAndTest(Nestimators = 100, MaxDepth = 10, FindBestNestimators=False, TestSize=0.2)"
   ]
  },
  {
   "cell_type": "code",
   "execution_count": 24,
   "metadata": {
    "scrolled": true
   },
   "outputs": [
    {
     "name": "stdout",
     "output_type": "stream",
     "text": [
      "The N°1 feature is the feature : \"CCM\" of the card N°3  with the score of 11.57 percents \n",
      "The N°2 feature is the feature : \"CCM\" of the card N°4  with the score of 6.76 percents \n",
      "The N°3 feature is the feature : \"Need_B\" of the card N°3  with the score of 5.14 percents \n",
      "The N°4 feature is the feature : \"type_of_card\" of the card N°3  with the score of 4.73 percents \n",
      "The N°5 feature is the feature : \"Is_human\" of the card N°2  with the score of 4.5 percents \n",
      "The N°6 feature is the feature : \"type_of_card\" of the card N°4  with the score of 3.59 percents \n",
      "The N°7 feature is the feature : \"type_of_card\" of the card N°2  with the score of 3.25 percents \n",
      "The N°8 feature is the feature : \"Need_U\" of the card N°3  with the score of 3.22 percents \n",
      "The N°9 feature is the feature : \"CCM\" of the card N°2  with the score of 3.1 percents \n",
      "The N°10 feature is the feature : \"produces_MULTICOLOR\" of the card N°3  with the score of 2.38 percents \n"
     ]
    }
   ],
   "source": [
    "HumansAnalyse = Analyse('Humans')\n",
    "HumansAnalyse.AnalysePattern()\n",
    "#HumansAnalyse.PlotGraphs(MaxDepthList=[5,7,10,12,13,15],TestSizeList=[0.2],NestimatorsList=[100],Nexperiments=100)"
   ]
  },
  {
   "cell_type": "code",
   "execution_count": 4,
   "metadata": {},
   "outputs": [],
   "source": [
    "from DeckDictHumans import *\n",
    "humans = Main('Humans',DeckDictHumans,Resolution='low')\n",
    "humans.TestModel(0)"
   ]
  },
  {
   "cell_type": "code",
   "execution_count": null,
   "metadata": {},
   "outputs": [],
   "source": [
    "SpiritAnalyse = Analyse('BantSpirit')\n",
    "SpiritAnalyse.PlotGraphs(MaxDepthList=[7],TestSizeList=[0.2],NestimatorsList = [200,201], Nexperiments = 100)"
   ]
  },
  {
   "cell_type": "markdown",
   "metadata": {},
   "source": [
    "## Lets compare with a NN-model"
   ]
  },
  {
   "cell_type": "code",
   "execution_count": 28,
   "metadata": {},
   "outputs": [
    {
     "name": "stdout",
     "output_type": "stream",
     "text": [
      "N_examples :  855\n",
      "N_features :  70\n"
     ]
    }
   ],
   "source": [
    "from keras.models import Sequential\n",
    "from keras.layers import Dense, Dropout, Lambda\n",
    "from keras.layers import Flatten, Input\n",
    "from keras.models import Model\n",
    "import tensorflow as tf\n",
    "from keras import optimizers\n",
    "from keras.optimizers import Adam\n",
    "\n",
    "DeckName = 'BantSpirit'\n",
    "\n",
    "NNtry = Utility()\n",
    "Data = NNtry.read(DeckName+'/Training_set_'+DeckName+'/TrainingSet.csv',header = None)\n",
    "TestData = NNtry.read(DeckName+'/Training_set_'+DeckName+'/TestingSet.csv',header = None)\n",
    "\n",
    "X_test, y_test = TestData[:,:-1],TestData[:,-1]\n",
    "X_train, y_train = Data[:,:-1],Data[:,-1]\n",
    "\n",
    "N_examples = X_train.shape[0]\n",
    "N_features = X_train.shape[1]\n",
    "\n",
    "\n",
    "print(\"N_examples : \",N_examples)\n",
    "print(\"N_features : \",N_features)\n",
    "\n",
    "def model_keras(input_shape,alpha):\n",
    "\n",
    "    model_input = Input(input_shape)\n",
    "    model = Dense(512, activation='relu')(model_input)\n",
    "    model = Dropout(0.5)(model)\n",
    "    model = Dense(1024, activation='relu')(model)\n",
    "    model = Dropout(0.5)(model)\n",
    "    model = Dense(1024, activation='relu')(model)\n",
    "    model = Dropout(0.5)(model)\n",
    "    model = Dense(512, activation='relu')(model)\n",
    "    model = Dropout(0.5)(model)\n",
    "    model = Dense(1, activation='sigmoid')(model)\n",
    "    \n",
    "    NNModel = Model(inputs = model_input, outputs = model, name='NNModel')\n",
    "    return(NNModel)\n",
    "\n",
    "NN_model = model_keras((N_features,),0.5)"
   ]
  },
  {
   "cell_type": "code",
   "execution_count": 29,
   "metadata": {
    "scrolled": true
   },
   "outputs": [
    {
     "name": "stdout",
     "output_type": "stream",
     "text": [
      "_________________________________________________________________\n",
      "Layer (type)                 Output Shape              Param #   \n",
      "=================================================================\n",
      "input_4 (InputLayer)         (None, 70)                0         \n",
      "_________________________________________________________________\n",
      "dense_16 (Dense)             (None, 512)               36352     \n",
      "_________________________________________________________________\n",
      "dropout_10 (Dropout)         (None, 512)               0         \n",
      "_________________________________________________________________\n",
      "dense_17 (Dense)             (None, 1024)              525312    \n",
      "_________________________________________________________________\n",
      "dropout_11 (Dropout)         (None, 1024)              0         \n",
      "_________________________________________________________________\n",
      "dense_18 (Dense)             (None, 1024)              1049600   \n",
      "_________________________________________________________________\n",
      "dropout_12 (Dropout)         (None, 1024)              0         \n",
      "_________________________________________________________________\n",
      "dense_19 (Dense)             (None, 512)               524800    \n",
      "_________________________________________________________________\n",
      "dropout_13 (Dropout)         (None, 512)               0         \n",
      "_________________________________________________________________\n",
      "dense_20 (Dense)             (None, 1)                 513       \n",
      "=================================================================\n",
      "Total params: 2,136,577\n",
      "Trainable params: 2,136,577\n",
      "Non-trainable params: 0\n",
      "_________________________________________________________________\n",
      "None\n",
      "Epoch 1/100\n",
      "855/855 [==============================] - 5s 5ms/step - loss: 0.7145 - acc: 0.5509\n",
      "Epoch 2/100\n",
      "855/855 [==============================] - 3s 3ms/step - loss: 0.6844 - acc: 0.5930\n",
      "Epoch 3/100\n",
      "855/855 [==============================] - 3s 3ms/step - loss: 0.6005 - acc: 0.6854\n",
      "Epoch 4/100\n",
      "855/855 [==============================] - 3s 3ms/step - loss: 0.5383 - acc: 0.7275\n",
      "Epoch 5/100\n",
      "855/855 [==============================] - 3s 3ms/step - loss: 0.5220 - acc: 0.7263A: 0s - loss: 0.5056 - acc: 0.\n",
      "Epoch 6/100\n",
      "855/855 [==============================] - 3s 3ms/step - loss: 0.4508 - acc: 0.7801\n",
      "Epoch 7/100\n",
      "855/855 [==============================] - 3s 3ms/step - loss: 0.4430 - acc: 0.7988A: 1s - loss: 0.4\n",
      "Epoch 8/100\n",
      "855/855 [==============================] - 3s 3ms/step - loss: 0.4100 - acc: 0.8175\n",
      "Epoch 9/100\n",
      "855/855 [==============================] - 3s 3ms/step - loss: 0.3999 - acc: 0.8187\n",
      "Epoch 10/100\n",
      "855/855 [==============================] - 3s 3ms/step - loss: 0.3878 - acc: 0.8129A: 0s - loss: 0.3976 - acc\n",
      "Epoch 11/100\n",
      "855/855 [==============================] - 3s 3ms/step - loss: 0.3465 - acc: 0.8550\n",
      "Epoch 12/100\n",
      "855/855 [==============================] - 3s 3ms/step - loss: 0.3431 - acc: 0.8491\n",
      "Epoch 13/100\n",
      "855/855 [==============================] - 3s 3ms/step - loss: 0.3272 - acc: 0.8596\n",
      "Epoch 14/100\n",
      "855/855 [==============================] - 3s 3ms/step - loss: 0.3044 - acc: 0.8854\n",
      "Epoch 15/100\n",
      "855/855 [==============================] - 3s 3ms/step - loss: 0.2708 - acc: 0.8971\n",
      "Epoch 16/100\n",
      "855/855 [==============================] - 3s 3ms/step - loss: 0.2690 - acc: 0.8901\n",
      "Epoch 17/100\n",
      "855/855 [==============================] - 3s 3ms/step - loss: 0.2845 - acc: 0.8772\n",
      "Epoch 18/100\n",
      "855/855 [==============================] - 3s 3ms/step - loss: 0.2395 - acc: 0.9006\n",
      "Epoch 19/100\n",
      "855/855 [==============================] - 3s 3ms/step - loss: 0.2415 - acc: 0.9099\n",
      "Epoch 20/100\n",
      "855/855 [==============================] - 3s 3ms/step - loss: 0.2185 - acc: 0.9123A: 1s - loss: \n",
      "Epoch 21/100\n",
      "855/855 [==============================] - 3s 3ms/step - loss: 0.1888 - acc: 0.9263\n",
      "Epoch 22/100\n",
      "855/855 [==============================] - 3s 3ms/step - loss: 0.2232 - acc: 0.9099\n",
      "Epoch 23/100\n",
      "855/855 [==============================] - 3s 3ms/step - loss: 0.2053 - acc: 0.9298\n",
      "Epoch 24/100\n",
      "855/855 [==============================] - 3s 3ms/step - loss: 0.1937 - acc: 0.9345\n",
      "Epoch 25/100\n",
      "855/855 [==============================] - 3s 3ms/step - loss: 0.1814 - acc: 0.9287\n",
      "Epoch 26/100\n",
      "855/855 [==============================] - 3s 3ms/step - loss: 0.1745 - acc: 0.9345A: 0s - loss: 0.1801 - acc: \n",
      "Epoch 27/100\n",
      "855/855 [==============================] - 3s 3ms/step - loss: 0.1630 - acc: 0.9357\n",
      "Epoch 28/100\n",
      "855/855 [==============================] - 3s 3ms/step - loss: 0.1903 - acc: 0.9228\n",
      "Epoch 29/100\n",
      "855/855 [==============================] - 3s 3ms/step - loss: 0.1802 - acc: 0.9287A: 0s - loss: 0.1780 - ac\n",
      "Epoch 30/100\n",
      "855/855 [==============================] - 3s 3ms/step - loss: 0.1818 - acc: 0.9275\n",
      "Epoch 31/100\n",
      "855/855 [==============================] - 3s 3ms/step - loss: 0.1424 - acc: 0.9392A: 2s - l\n",
      "Epoch 32/100\n",
      "855/855 [==============================] - 3s 3ms/step - loss: 0.1382 - acc: 0.9462\n",
      "Epoch 33/100\n",
      "855/855 [==============================] - 3s 3ms/step - loss: 0.1414 - acc: 0.9462\n",
      "Epoch 34/100\n",
      "855/855 [==============================] - 3s 3ms/step - loss: 0.1262 - acc: 0.9509A: 2s - los\n",
      "Epoch 35/100\n",
      "855/855 [==============================] - 3s 3ms/step - loss: 0.1450 - acc: 0.9392\n",
      "Epoch 36/100\n",
      "855/855 [==============================] - 3s 3ms/step - loss: 0.1201 - acc: 0.9474\n",
      "Epoch 37/100\n",
      "855/855 [==============================] - 3s 3ms/step - loss: 0.1243 - acc: 0.9544\n",
      "Epoch 38/100\n",
      "855/855 [==============================] - 3s 3ms/step - loss: 0.1160 - acc: 0.9497\n",
      "Epoch 39/100\n",
      "855/855 [==============================] - 3s 3ms/step - loss: 0.1183 - acc: 0.9520\n",
      "Epoch 40/100\n",
      "855/855 [==============================] - 3s 3ms/step - loss: 0.1306 - acc: 0.9509\n",
      "Epoch 41/100\n",
      "855/855 [==============================] - 3s 3ms/step - loss: 0.1291 - acc: 0.9497\n",
      "Epoch 42/100\n",
      "855/855 [==============================] - 3s 3ms/step - loss: 0.1023 - acc: 0.9579\n",
      "Epoch 43/100\n",
      "855/855 [==============================] - 3s 3ms/step - loss: 0.0920 - acc: 0.9591\n",
      "Epoch 44/100\n",
      "855/855 [==============================] - 3s 3ms/step - loss: 0.1241 - acc: 0.9626\n",
      "Epoch 45/100\n",
      "855/855 [==============================] - 3s 3ms/step - loss: 0.1092 - acc: 0.9567\n",
      "Epoch 46/100\n",
      "855/855 [==============================] - 3s 3ms/step - loss: 0.1052 - acc: 0.9591A: 0s - loss: 0.1140 - acc: \n",
      "Epoch 47/100\n",
      "855/855 [==============================] - 3s 3ms/step - loss: 0.1139 - acc: 0.9579\n",
      "Epoch 48/100\n",
      "855/855 [==============================] - 3s 3ms/step - loss: 0.0952 - acc: 0.9637A: 0s - loss: 0.0961 - acc: \n",
      "Epoch 49/100\n",
      "855/855 [==============================] - 3s 3ms/step - loss: 0.0820 - acc: 0.9614\n",
      "Epoch 50/100\n",
      "855/855 [==============================] - 3s 3ms/step - loss: 0.0947 - acc: 0.9626\n",
      "Epoch 51/100\n",
      "855/855 [==============================] - 3s 3ms/step - loss: 0.1201 - acc: 0.9509\n",
      "Epoch 52/100\n",
      "855/855 [==============================] - 3s 3ms/step - loss: 0.1078 - acc: 0.9567\n",
      "Epoch 53/100\n",
      "855/855 [==============================] - ETA: 0s - loss: 0.0823 - acc: 0.970 - 3s 3ms/step - loss: 0.0827 - acc: 0.9696\n",
      "Epoch 54/100\n",
      "855/855 [==============================] - 3s 3ms/step - loss: 0.0845 - acc: 0.9719\n",
      "Epoch 55/100\n",
      "855/855 [==============================] - 3s 3ms/step - loss: 0.0822 - acc: 0.9719\n",
      "Epoch 56/100\n",
      "855/855 [==============================] - 3s 3ms/step - loss: 0.0866 - acc: 0.9743\n",
      "Epoch 57/100\n",
      "855/855 [==============================] - 3s 3ms/step - loss: 0.0659 - acc: 0.9789\n",
      "Epoch 58/100\n",
      "855/855 [==============================] - 3s 3ms/step - loss: 0.0774 - acc: 0.9719\n",
      "Epoch 59/100\n",
      "855/855 [==============================] - 3s 3ms/step - loss: 0.0822 - acc: 0.9708A: 1s - loss: 0\n",
      "Epoch 60/100\n",
      "855/855 [==============================] - 3s 3ms/step - loss: 0.0627 - acc: 0.9766\n",
      "Epoch 61/100\n",
      "855/855 [==============================] - 3s 3ms/step - loss: 0.0714 - acc: 0.9696\n",
      "Epoch 62/100\n",
      "855/855 [==============================] - 3s 3ms/step - loss: 0.0693 - acc: 0.9766\n",
      "Epoch 63/100\n",
      "855/855 [==============================] - 3s 3ms/step - loss: 0.0518 - acc: 0.9766\n",
      "Epoch 64/100\n",
      "855/855 [==============================] - 3s 3ms/step - loss: 0.0624 - acc: 0.9743\n",
      "Epoch 65/100\n",
      "855/855 [==============================] - 3s 3ms/step - loss: 0.0933 - acc: 0.9708\n",
      "Epoch 66/100\n",
      "855/855 [==============================] - 2s 3ms/step - loss: 0.0821 - acc: 0.9673\n",
      "Epoch 67/100\n",
      "855/855 [==============================] - 3s 3ms/step - loss: 0.0660 - acc: 0.9708A: 2s - lo\n",
      "Epoch 68/100\n",
      "855/855 [==============================] - 3s 3ms/step - loss: 0.0518 - acc: 0.9813\n",
      "Epoch 69/100\n",
      "855/855 [==============================] - 2s 3ms/step - loss: 0.0615 - acc: 0.9778\n",
      "Epoch 70/100\n",
      "855/855 [==============================] - 3s 3ms/step - loss: 0.0408 - acc: 0.9883\n",
      "Epoch 71/100\n",
      "855/855 [==============================] - 3s 3ms/step - loss: 0.0587 - acc: 0.9743\n",
      "Epoch 72/100\n",
      "855/855 [==============================] - 3s 3ms/step - loss: 0.0591 - acc: 0.9766A: 0s - loss: 0.0613 - acc: 0.9 - ETA: 0s - loss: 0.0607 - acc: \n",
      "Epoch 73/100\n",
      "855/855 [==============================] - 3s 3ms/step - loss: 0.0593 - acc: 0.9801A: 1s - loss: 0\n",
      "Epoch 74/100\n",
      "855/855 [==============================] - 3s 3ms/step - loss: 0.0863 - acc: 0.9719\n",
      "Epoch 75/100\n",
      "855/855 [==============================] - 3s 3ms/step - loss: 0.0756 - acc: 0.9754A: 1s - loss: 0.0910 -\n",
      "Epoch 76/100\n",
      "855/855 [==============================] - 3s 3ms/step - loss: 0.0565 - acc: 0.9743\n",
      "Epoch 77/100\n",
      "855/855 [==============================] - 3s 3ms/step - loss: 0.0455 - acc: 0.9860\n",
      "Epoch 78/100\n",
      "855/855 [==============================] - 3s 3ms/step - loss: 0.0326 - acc: 0.9883\n",
      "Epoch 79/100\n",
      "855/855 [==============================] - 3s 3ms/step - loss: 0.0417 - acc: 0.9848\n",
      "Epoch 80/100\n",
      "855/855 [==============================] - 3s 3ms/step - loss: 0.0927 - acc: 0.9626\n",
      "Epoch 81/100\n",
      "855/855 [==============================] - 3s 3ms/step - loss: 0.0710 - acc: 0.9696\n",
      "Epoch 82/100\n",
      "855/855 [==============================] - 3s 3ms/step - loss: 0.0516 - acc: 0.9825\n",
      "Epoch 83/100\n",
      "855/855 [==============================] - 3s 3ms/step - loss: 0.0366 - acc: 0.9860\n",
      "Epoch 84/100\n",
      "855/855 [==============================] - 3s 3ms/step - loss: 0.0342 - acc: 0.9883\n",
      "Epoch 85/100\n",
      "855/855 [==============================] - 3s 3ms/step - loss: 0.0505 - acc: 0.9836\n",
      "Epoch 86/100\n",
      "855/855 [==============================] - 3s 3ms/step - loss: 0.0531 - acc: 0.9813\n",
      "Epoch 87/100\n",
      "855/855 [==============================] - 3s 3ms/step - loss: 0.0520 - acc: 0.9801A: 1s - loss: 0.\n",
      "Epoch 88/100\n",
      "855/855 [==============================] - 3s 3ms/step - loss: 0.0617 - acc: 0.9801\n",
      "Epoch 89/100\n",
      "855/855 [==============================] - 3s 3ms/step - loss: 0.0454 - acc: 0.9836\n",
      "Epoch 90/100\n",
      "855/855 [==============================] - 3s 3ms/step - loss: 0.0372 - acc: 0.9836\n",
      "Epoch 91/100\n",
      "855/855 [==============================] - 3s 3ms/step - loss: 0.0316 - acc: 0.9871\n",
      "Epoch 92/100\n",
      "855/855 [==============================] - 3s 3ms/step - loss: 0.0338 - acc: 0.9860A: 2s - los\n",
      "Epoch 93/100\n",
      "855/855 [==============================] - 3s 3ms/step - loss: 0.0557 - acc: 0.9836A: 0s - loss: 0.0481 - acc: \n",
      "Epoch 94/100\n",
      "855/855 [==============================] - 3s 3ms/step - loss: 0.0518 - acc: 0.9860\n",
      "Epoch 95/100\n",
      "855/855 [==============================] - 3s 3ms/step - loss: 0.0603 - acc: 0.9789A: 0s - loss: 0.0618 - acc: 0.978\n",
      "Epoch 96/100\n",
      "855/855 [==============================] - 3s 3ms/step - loss: 0.0539 - acc: 0.9825\n",
      "Epoch 97/100\n",
      "855/855 [==============================] - 3s 3ms/step - loss: 0.0590 - acc: 0.9778\n",
      "Epoch 98/100\n",
      "855/855 [==============================] - 3s 3ms/step - loss: 0.0354 - acc: 0.9860\n",
      "Epoch 99/100\n",
      "855/855 [==============================] - 3s 3ms/step - loss: 0.0330 - acc: 0.9883\n",
      "Epoch 100/100\n",
      "855/855 [==============================] - 3s 3ms/step - loss: 0.0357 - acc: 0.9871\n",
      "Accuracy: 89.000000\n"
     ]
    }
   ],
   "source": [
    "opti = Adam(lr=0.0005, beta_1=0.9, beta_2=0.999, epsilon=None, decay=0.0, amsgrad=False)\n",
    "\n",
    "    # compile the model\n",
    "NN_model.compile(optimizer=opti, loss='binary_crossentropy', metrics=['acc'])\n",
    "\n",
    "    # summarize the model\n",
    "print(NN_model.summary())\n",
    "\n",
    "    # fit the model\n",
    "NN_model.fit(X_train, y_train, epochs=100, verbose=1)\n",
    "\n",
    "    # evaluate the model\n",
    "loss, accuracy = NN_model.evaluate(X_test, y_test, verbose=0)\n",
    "print('Accuracy: %f' % (accuracy*100))\n"
   ]
  },
  {
   "cell_type": "markdown",
   "metadata": {},
   "source": [
    "Conclusion, the Random Forest Classifier works better !"
   ]
  }
 ],
 "metadata": {
  "kernelspec": {
   "display_name": "Python 3",
   "language": "python",
   "name": "python3"
  },
  "language_info": {
   "codemirror_mode": {
    "name": "ipython",
    "version": 3
   },
   "file_extension": ".py",
   "mimetype": "text/x-python",
   "name": "python",
   "nbconvert_exporter": "python",
   "pygments_lexer": "ipython3",
   "version": "3.6.4"
  }
 },
 "nbformat": 4,
 "nbformat_minor": 2
}
