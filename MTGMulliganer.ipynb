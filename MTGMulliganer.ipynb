{
 "cells": [
  {
   "cell_type": "code",
   "execution_count": 1,
   "metadata": {},
   "outputs": [],
   "source": [
    "from magic import *\n",
    "from DeckDictBantSpirit import *"
   ]
  },
  {
   "cell_type": "code",
   "execution_count": 65,
   "metadata": {},
   "outputs": [],
   "source": [
    "DeckDictNoBlueLands = {\"forest\" :1,\n",
    "                     \"plains\" :1,\n",
    "                    \"temple_garden\" :1,\n",
    "                    \"horizon_canopy\" :3 ,\n",
    "                    \"moorland_haunt\" :1}\n",
    "\n",
    "DeckDictBlueLands = {\"flooded_strand\" :2, \n",
    "                    \"hallowed_fountain\" : 1,\n",
    "                    \"island\" :1,\n",
    "                 \"misty_rainforest\" :3,\n",
    "                \"seachrome_coast\" :1,\n",
    "                \"windswept_heath\" :2,\n",
    "                \"botanical_sanctum\" :2,\n",
    "                 \"breeding_pool\" :1,\n",
    "                 \"cavern_of_souls\" :1 }\n",
    "\n",
    "DeckDictSeachrome = {\"seachrome_coast\" :1}\n",
    "\n",
    "DeckDictLands = {\"flooded_strand\" :2, \n",
    "                 \"forest\" :1,\n",
    "                 \"hallowed_fountain\" : 1,\n",
    "                 \"horizon_canopy\" :3 ,\n",
    "                 \"island\" :1,\n",
    "                 \"misty_rainforest\" :3,\n",
    "                 \"moorland_haunt\" :1,\n",
    "                 \"plains\" :1,\n",
    "                 \"seachrome_coast\" :1,\n",
    "                 \"temple_garden\" :1 ,\n",
    "                 \"windswept_heath\" :2,\n",
    "                \"botanical_sanctum\" :2,\n",
    "                 \"breeding_pool\" :1,\n",
    "                 \"cavern_of_souls\" :1}\n",
    "\n",
    "DeckDictVial = {\"aether_vial\" :3}\n",
    "\n",
    "DeckDictOther = {\"drogskol_captain\" :4,\n",
    "                 \"geist_of_saint_traft\" :2,\n",
    "                 \"mausoleum_wanderer\" :4,\n",
    "                 \"noble_hierarch\" :4,\n",
    "                 \"phantasmal_image\" :3,\n",
    "                 \"rattlechains\" :1,\n",
    "                 \"selfless_spirit\" :2,\n",
    "                 \"spell_queller\" :4,\n",
    "                 \"supreme_phantom\" :4,\n",
    "                 \"collected_company\" :4,\n",
    "                 \"path_to_exile\" :4}\n",
    "\n",
    "DeckDictWanderer = {\"mausoleum_wanderer\" :4}\n",
    "\n",
    "DeckDictSpells = {\"drogskol_captain\" :4,\n",
    "                 \"geist_of_saint_traft\" :2,\n",
    "                 \"mausoleum_wanderer\" :4,\n",
    "                 \"phantasmal_image\" :3,\n",
    "                 \"rattlechains\" :1,\n",
    "                 \"selfless_spirit\" :2,\n",
    "                 \"spell_queller\" :4,\n",
    "                 \"supreme_phantom\" :4,\n",
    "                 \"collected_company\" :4,\n",
    "                 \"path_to_exile\" :4}\n",
    "\n",
    "DeckDict34Drops = {\"drogskol_captain\" :4,\n",
    "                  \"geist_of_saint_traft\" :2,\n",
    "                  \"spell_queller\" :4,\n",
    "                  \"collected_company\" :4}\n"
   ]
  },
  {
   "cell_type": "code",
   "execution_count": 141,
   "metadata": {
    "scrolled": true
   },
   "outputs": [
    {
     "name": "stdout",
     "output_type": "stream",
     "text": [
      "Written !\n",
      "Done !\n",
      "N_examples :  589\n",
      "1.0\n"
     ]
    }
   ],
   "source": [
    "DictList = [DeckDictLands,DeckDictOther]\n",
    "nList = [3,4]\n",
    "spirit = Train('BantSpirit',DeckDictSpirit)\n",
    "spirit.MakeControlledTrainingSetWithModel(7,DictList,nList,TrainingSetSize=0,TrainingFileName='TrainingSetNames')\n",
    "spirit.TransformTrainingSet(TrainingFileInput = 'TrainingSetNames')\n",
    "spirit.TrainAndSaveWeights()\n",
    "\n",
    "#Virer Power and Toughness in Features? Rémi said it's perhaps noise. "
   ]
  },
  {
   "cell_type": "code",
   "execution_count": 39,
   "metadata": {},
   "outputs": [
    {
     "name": "stdout",
     "output_type": "stream",
     "text": [
      "Done !\n",
      "N_examples :  493\n",
      "1.0\n"
     ]
    }
   ],
   "source": [
    "spirit.TransformTrainingSet(TrainingFileInput = 'TrainingSetNames')\n",
    "spirit.TrainAndSaveWeights()"
   ]
  },
  {
   "cell_type": "markdown",
   "metadata": {},
   "source": [
    "## Increase the TestingSet"
   ]
  },
  {
   "cell_type": "code",
   "execution_count": 103,
   "metadata": {
    "scrolled": true
   },
   "outputs": [
    {
     "name": "stdout",
     "output_type": "stream",
     "text": [
      "Written !\n",
      "Done !\n"
     ]
    }
   ],
   "source": [
    "spirit = Train('BantSpirit',DeckDictSpirit)\n",
    "spirit.MakeTrainingSetWithModel(7,TrainingSetSize=0,TrainingFileName='TestingSetNames')\n",
    "spirit.TransformTrainingSet(TrainingFileInput = 'TestingSetNames',TrainingFileOutput = 'TestingSet')"
   ]
  },
  {
   "cell_type": "markdown",
   "metadata": {},
   "source": [
    "## Test the algorithm on the TestingSet"
   ]
  },
  {
   "cell_type": "code",
   "execution_count": 140,
   "metadata": {},
   "outputs": [
    {
     "name": "stdout",
     "output_type": "stream",
     "text": [
      "N_examples :  589\n",
      "N_training examples :  589\n",
      "N_test examples :  100\n",
      "1.0\n",
      "0.98\n"
     ]
    }
   ],
   "source": [
    "spirit = Train('BantSpirit',DeckDictSpirit)\n",
    "spirit.TrainAndTest(TestingFileInput = 'TestingSet')"
   ]
  },
  {
   "cell_type": "markdown",
   "metadata": {},
   "source": [
    "## Runs the model on Controlled hands to detect mistakes"
   ]
  },
  {
   "cell_type": "code",
   "execution_count": 107,
   "metadata": {
    "scrolled": true
   },
   "outputs": [],
   "source": [
    "DictList = [DeckDictNoBlueLands,DeckDictSeachrome,DeckDictWanderer]\n",
    "nList = [2,1,4]\n",
    "spirit = Main('BantSpirit',DeckDictSpirit)\n",
    "spirit.TestModel(0,DictList,nList)"
   ]
  },
  {
   "cell_type": "markdown",
   "metadata": {},
   "source": [
    "## Few errors still persisting..."
   ]
  },
  {
   "cell_type": "code",
   "execution_count": 108,
   "metadata": {
    "scrolled": true
   },
   "outputs": [],
   "source": [
    "spirit = Main('BantSpirit',DeckDictSpirit)\n",
    "hands = []\n",
    "#hands.append([' plains temple_garden forest  mausoleum_wanderer mausoleum_wanderer supreme_phantom mausoleum_wanderer'])\n",
    "for hand in hands:\n",
    "    spirit.RunHand(hand)"
   ]
  }
 ],
 "metadata": {
  "kernelspec": {
   "display_name": "Python 3",
   "language": "python",
   "name": "python3"
  },
  "language_info": {
   "codemirror_mode": {
    "name": "ipython",
    "version": 3
   },
   "file_extension": ".py",
   "mimetype": "text/x-python",
   "name": "python",
   "nbconvert_exporter": "python",
   "pygments_lexer": "ipython3",
   "version": "3.6.4"
  }
 },
 "nbformat": 4,
 "nbformat_minor": 2
}
