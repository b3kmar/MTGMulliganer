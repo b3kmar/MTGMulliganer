{
 "cells": [
  {
   "cell_type": "code",
   "execution_count": 1,
   "metadata": {},
   "outputs": [],
   "source": [
    "from magic import *\n",
    "from DeckDictBantSpirit import *"
   ]
  },
  {
   "cell_type": "code",
   "execution_count": 50,
   "metadata": {},
   "outputs": [],
   "source": [
    "DeckDictShitLands = {\"forest\" :1,\n",
    "                     \"island\" :1,\n",
    "                     \"plains\" :1,\n",
    "                    \"temple_garden\" :1,\n",
    "                    \"cavern_of_souls\" :1,\n",
    "                    \"horizon_canopy\" :3 ,\n",
    "                    \"moorland_haunt\" :1}\n",
    "\n",
    "DeckDictLands = {\"flooded_strand\" :2, \n",
    "                     \"forest\" :1,\n",
    "                     \"hallowed_fountain\" : 1,\n",
    "                     \"horizon_canopy\" :3 ,\n",
    "                     \"island\" :1,\n",
    "                     \"misty_rainforest\" :3,\n",
    "                     \"moorland_haunt\" :1,\n",
    "                     \"plains\" :1,\n",
    "                     \"seachrome_coast\" :1,\n",
    "                     \"temple_garden\" :1 ,\n",
    "                     \"windswept_heath\" :2,\n",
    "                    \"botanical_sanctum\" :2,\n",
    "                     \"breeding_pool\" :1,\n",
    "                     \"cavern_of_souls\" :1}\n",
    "\n",
    "DeckDictVial = {\"aether_vial\" :3}\n",
    "\n",
    "DeckDictOther = {\"drogskol_captain\" :4,\n",
    "                     \"geist_of_saint_traft\" :2,\n",
    "                     \"mausoleum_wanderer\" :4,\n",
    "                     \"noble_hierarch\" :4,\n",
    "                     \"phantasmal_image\" :3,\n",
    "                     \"rattlechains\" :1,\n",
    "                     \"selfless_spirit\" :2,\n",
    "                     \"spell_queller\" :4,\n",
    "                     \"supreme_phantom\" :4,\n",
    "                     \"collected_company\" :4,\n",
    "                     \"path_to_exile\" :4}\n",
    "\n",
    "DeckDict34Drops = {\"drogskol_captain\" :4,\n",
    "                  \"geist_of_saint_traft\" :2,\n",
    "                  \"spell_queller\" :4,\n",
    "                  \"collected_company\" :4}\n",
    "\n",
    "DictList = [DeckDictLands,DeckDictVial,DeckDictOther]\n",
    "nList = [1,1,5]"
   ]
  },
  {
   "cell_type": "code",
   "execution_count": 53,
   "metadata": {
    "scrolled": true
   },
   "outputs": [
    {
     "name": "stdout",
     "output_type": "stream",
     "text": [
      "Written !\n",
      "Done !\n",
      "N_examples :  233\n",
      "1.0\n"
     ]
    }
   ],
   "source": [
    "spirit = Train('BantSpirit',DeckDictSpirit)\n",
    "spirit.MakeControlledTrainingSetWithModel(7,DictList,nList,TrainingSetSize=0,TrainingFileName='TrainingSetNames')\n",
    "spirit.TransformTrainingSet('TrainingSetNames')\n",
    "spirit.TrainAndSaveWeights()"
   ]
  },
  {
   "cell_type": "code",
   "execution_count": 48,
   "metadata": {},
   "outputs": [
    {
     "name": "stdout",
     "output_type": "stream",
     "text": [
      "N_examples :  233\n",
      "N_training examples :  186\n",
      "N_test examples :  47\n",
      "1.0\n",
      "0.8723404255319149\n"
     ]
    }
   ],
   "source": [
    "spirit = Train('BantSpirit',DeckDictSpirit)\n",
    "spirit.TrainAndTest(0.2)"
   ]
  },
  {
   "cell_type": "code",
   "execution_count": 15,
   "metadata": {
    "scrolled": true
   },
   "outputs": [],
   "source": [
    "spirit = Main('BantSpirit',DeckDictSpirit)\n",
    "hand = ['temple_garden island mausoleum_wanderer mausoleum_wanderer mausoleum_wanderer collected_company collected_company']\n",
    "spirit.TestModel(0)\n",
    "#spirit.RunHand(hand)"
   ]
  },
  {
   "cell_type": "code",
   "execution_count": 26,
   "metadata": {},
   "outputs": [],
   "source": [
    "spirit = Main('BantSpirit',DeckDictSpirit)\n",
    "hand = ['seachrome_coast island selfless_spirit selfless_spirit noble_hierarch geist_of_saint_traft collected_company']\n",
    "#spirit.RunHand(hand)"
   ]
  }
 ],
 "metadata": {
  "kernelspec": {
   "display_name": "Python 3",
   "language": "python",
   "name": "python3"
  },
  "language_info": {
   "codemirror_mode": {
    "name": "ipython",
    "version": 3
   },
   "file_extension": ".py",
   "mimetype": "text/x-python",
   "name": "python",
   "nbconvert_exporter": "python",
   "pygments_lexer": "ipython3",
   "version": "3.6.4"
  }
 },
 "nbformat": 4,
 "nbformat_minor": 2
}
