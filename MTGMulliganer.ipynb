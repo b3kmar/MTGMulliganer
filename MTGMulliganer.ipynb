{
 "cells": [
  {
   "cell_type": "code",
   "execution_count": 1,
   "metadata": {},
   "outputs": [],
   "source": [
    "from magic import *"
   ]
  },
  {
   "cell_type": "code",
   "execution_count": 7,
   "metadata": {
    "scrolled": false
   },
   "outputs": [],
   "source": [
    "humans = Main('Humans')\n",
    "hand = ['island horizon_canopy noble_hierarch noble_hierarch militia_bugler militia_bugler militia_bugler']\n",
    "#humans.RunHand(hand)"
   ]
  },
  {
   "cell_type": "code",
   "execution_count": 6,
   "metadata": {
    "scrolled": true
   },
   "outputs": [
    {
     "name": "stdout",
     "output_type": "stream",
     "text": [
      "Written !\n",
      "Done !\n",
      "N_examples :  594\n",
      "1.0\n"
     ]
    }
   ],
   "source": [
    "HumansTraining = Train('Humans',DeckDictHumans,NonLandDict,LandDict)\n",
    "HumansTraining.MakeControlledTrainingSetWithModel(7,2,TrainingSetSize=0,TrainingFileName='TrainingSetNames')\n",
    "HumansTraining.TransformTrainingSet('TrainingSetNames',False)\n",
    "HumansTraining.TrainAndSaveWeights(save = True)"
   ]
  },
  {
   "cell_type": "code",
   "execution_count": 2,
   "metadata": {},
   "outputs": [],
   "source": [
    "DeckDictSpirit = { \"flooded_strand\" :2, \n",
    "                     \"forest\" :1,\n",
    "                     \"hallowed_fountain\" : 1,\n",
    "                     \"horizon_canopy\" :3 ,\n",
    "                     \"island\" :1,\n",
    "                     \"misty_rainforest\" :3,\n",
    "                     \"moorland_haunt\" :1,\n",
    "                     \"plains\" :1,\n",
    "                     \"seachrome_coast\" :1,\n",
    "                     \"temple_garden\" :1 ,\n",
    "                     \"windswept_heath\" :2,\n",
    "                     \"drogskol_captain\" :4,\n",
    "                     \"geist_of_saint_traft\" :2,\n",
    "                     \"mausoleum_wanderer\" :4,\n",
    "                     \"noble_hierarch\" :4,\n",
    "                     \"phantasmal_image\" :3,\n",
    "                     \"rattlechains\" :1,\n",
    "                     \"selfless_spirit\" :2,\n",
    "                     \"spell_queller\" :4,\n",
    "                     \"supreme_phantom\" :4,\n",
    "                     \"collected_company\" :4,\n",
    "                     \"path_to_exile\" :4,\n",
    "                     \"aether_vial\" :3,\n",
    "                     \"botanical_sanctum\" :2,\n",
    "                     \"breeding_pool\" :1,\n",
    "                     \"cavern_of_souls\" :1}"
   ]
  },
  {
   "cell_type": "code",
   "execution_count": 6,
   "metadata": {
    "scrolled": true
   },
   "outputs": [
    {
     "name": "stdout",
     "output_type": "stream",
     "text": [
      "Written !\n",
      "Done !\n",
      "N_examples :  102\n",
      "1.0\n"
     ]
    }
   ],
   "source": [
    "spirit = Train('BantSpirit',DeckDictSpirit)\n",
    "spirit.MakeTrainingSetWithModel(7,TrainingSetSize=0,TrainingFileName='TrainingSetNames')\n",
    "spirit.TransformTrainingSet('TrainingSetNames',False)\n",
    "spirit.TrainAndSaveWeights(save = True)"
   ]
  },
  {
   "cell_type": "code",
   "execution_count": 8,
   "metadata": {
    "scrolled": true
   },
   "outputs": [],
   "source": [
    "spirit = Main('BantSpirit',DeckDictSpirit)\n",
    "hand = ['island aether_vial mausoleum_wanderer mausoleum_wanderer mausoleum_wanderer collected_company collected_company']\n",
    "#spirit.RunHand(hand)"
   ]
  }
 ],
 "metadata": {
  "kernelspec": {
   "display_name": "Python 3",
   "language": "python",
   "name": "python3"
  },
  "language_info": {
   "codemirror_mode": {
    "name": "ipython",
    "version": 3
   },
   "file_extension": ".py",
   "mimetype": "text/x-python",
   "name": "python",
   "nbconvert_exporter": "python",
   "pygments_lexer": "ipython3",
   "version": "3.6.4"
  }
 },
 "nbformat": 4,
 "nbformat_minor": 2
}
