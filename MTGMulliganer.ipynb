{
 "cells": [
  {
   "cell_type": "code",
   "execution_count": 2,
   "metadata": {},
   "outputs": [],
   "source": [
    "from magic import *\n",
    "from DeckDictBantSpirit import *"
   ]
  },
  {
   "cell_type": "code",
   "execution_count": 11,
   "metadata": {},
   "outputs": [],
   "source": [
    "DeckDictShitLands = {\"forest\" :1,\n",
    "                     \"island\" :1,\n",
    "                     \"plains\" :1,\n",
    "                    \"temple_garden\" :1,\n",
    "                    \"cavern_of_souls\" :1,\n",
    "                    \"horizon_canopy\" :3 ,\n",
    "                    \"moorland_haunt\" :1}\n",
    "\n",
    "DeckDictNoBlueLands = {\"forest\" :1,\n",
    "                     \"plains\" :1,\n",
    "                    \"temple_garden\" :1,\n",
    "                    \"horizon_canopy\" :3 ,\n",
    "                    \"moorland_haunt\" :1}\n",
    "\n",
    "DeckDictBlueLands = {\"flooded_strand\" :2, \n",
    "                    \"hallowed_fountain\" : 1,\n",
    "                    \"island\" :1,\n",
    "                 \"misty_rainforest\" :3,\n",
    "                \"seachrome_coast\" :1,\n",
    "                \"windswept_heath\" :2,\n",
    "                \"botanical_sanctum\" :2,\n",
    "                 \"breeding_pool\" :1,\n",
    "                 \"cavern_of_souls\" :1 }\n",
    "\n",
    "DeckDictLands = {\"flooded_strand\" :2, \n",
    "                 \"forest\" :1,\n",
    "                 \"hallowed_fountain\" : 1,\n",
    "                 \"horizon_canopy\" :3 ,\n",
    "                 \"island\" :1,\n",
    "                 \"misty_rainforest\" :3,\n",
    "                 \"moorland_haunt\" :1,\n",
    "                 \"plains\" :1,\n",
    "                 \"seachrome_coast\" :1,\n",
    "                 \"temple_garden\" :1 ,\n",
    "                 \"windswept_heath\" :2,\n",
    "                \"botanical_sanctum\" :2,\n",
    "                 \"breeding_pool\" :1,\n",
    "                 \"cavern_of_souls\" :1}\n",
    "\n",
    "DeckDictVial = {\"aether_vial\" :3}\n",
    "\n",
    "DeckDictOther = {\"drogskol_captain\" :4,\n",
    "                 \"geist_of_saint_traft\" :2,\n",
    "                 \"mausoleum_wanderer\" :4,\n",
    "                 \"noble_hierarch\" :4,\n",
    "                 \"phantasmal_image\" :3,\n",
    "                 \"rattlechains\" :1,\n",
    "                 \"selfless_spirit\" :2,\n",
    "                 \"spell_queller\" :4,\n",
    "                 \"supreme_phantom\" :4,\n",
    "                 \"collected_company\" :4,\n",
    "                 \"path_to_exile\" :4}\n",
    "\n",
    "DeckDictSpells = {\"drogskol_captain\" :4,\n",
    "                 \"geist_of_saint_traft\" :2,\n",
    "                 \"mausoleum_wanderer\" :4,\n",
    "                 \"phantasmal_image\" :3,\n",
    "                 \"rattlechains\" :1,\n",
    "                 \"selfless_spirit\" :2,\n",
    "                 \"spell_queller\" :4,\n",
    "                 \"supreme_phantom\" :4,\n",
    "                 \"collected_company\" :4,\n",
    "                 \"path_to_exile\" :4}\n",
    "\n",
    "DeckDict34Drops = {\"drogskol_captain\" :4,\n",
    "                  \"geist_of_saint_traft\" :2,\n",
    "                  \"spell_queller\" :4,\n",
    "                  \"collected_company\" :4}\n",
    "\n",
    "DictList = [DeckDictNoBlueLands,DeckDictBlueLands,DeckDictSpells]\n",
    "nList = [2,1,4]"
   ]
  },
  {
   "cell_type": "code",
   "execution_count": 16,
   "metadata": {
    "scrolled": true
   },
   "outputs": [
    {
     "name": "stdout",
     "output_type": "stream",
     "text": [
      "Written !\n",
      "Done !\n",
      "N_examples :  411\n",
      "1.0\n"
     ]
    }
   ],
   "source": [
    "spirit = Train('BantSpirit',DeckDictSpirit)\n",
    "spirit.MakeControlledTrainingSetWithModel(7,DictList,nList,TrainingSetSize=0,TrainingFileName='TrainingSetNames')\n",
    "spirit.TransformTrainingSet('TrainingSetNames')\n",
    "spirit.TrainAndSaveWeights()"
   ]
  },
  {
   "cell_type": "code",
   "execution_count": 91,
   "metadata": {},
   "outputs": [
    {
     "name": "stdout",
     "output_type": "stream",
     "text": [
      "N_examples :  373\n",
      "N_training examples :  335\n",
      "N_test examples :  38\n",
      "1.0\n",
      "0.8421052631578947\n"
     ]
    }
   ],
   "source": [
    "spirit = Train('BantSpirit',DeckDictSpirit)\n",
    "spirit.TrainAndTest(0.1)"
   ]
  },
  {
   "cell_type": "code",
   "execution_count": 17,
   "metadata": {
    "scrolled": true
   },
   "outputs": [],
   "source": [
    "DictList = [DeckDictNoBlueLands,DeckDictSpells]\n",
    "nList = [3,4]\n",
    "spirit = Main('BantSpirit',DeckDictSpirit)\n",
    "spirit.TestModel(0,DictList,nList)"
   ]
  },
  {
   "cell_type": "code",
   "execution_count": 18,
   "metadata": {
    "scrolled": true
   },
   "outputs": [],
   "source": [
    "spirit = Main('BantSpirit',DeckDictSpirit)\n",
    "hands = []\n",
    "#hands.append(['aether_vial island mausoleum_wanderer mausoleum_wanderer mausoleum_wanderer collected_company collected_company'])\n",
    "#hands.append(['seachrome_coast island selfless_spirit selfless_spirit noble_hierarch geist_of_saint_traft collected_company'])\n",
    "#hands.append(['island geist_of_saint_traft breeding_pool moorland_haunt supreme_phantom supreme_phantom drogskol_captain'])\n",
    "#hands.append(['plains moorland_haunt forest mausoleum_wanderer supreme_phantom drogskol_captain spell_queller'])\n",
    "#hands.append([' horizon_canopy horizon_canopy island  mausoleum_wanderer mausoleum_wanderer supreme_phantom collected_company'])\n",
    "for hand in hands:\n",
    "    spirit.RunHand(hand)"
   ]
  }
 ],
 "metadata": {
  "kernelspec": {
   "display_name": "Python 3",
   "language": "python",
   "name": "python3"
  },
  "language_info": {
   "codemirror_mode": {
    "name": "ipython",
    "version": 3
   },
   "file_extension": ".py",
   "mimetype": "text/x-python",
   "name": "python",
   "nbconvert_exporter": "python",
   "pygments_lexer": "ipython3",
   "version": "3.6.4"
  }
 },
 "nbformat": 4,
 "nbformat_minor": 2
}
